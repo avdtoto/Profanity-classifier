{
 "cells": [
  {
   "cell_type": "markdown",
   "id": "307458e8",
   "metadata": {
    "_cell_guid": "b1076dfc-b9ad-4769-8c92-a6c4dae69d19",
    "_uuid": "8f2839f25d086af736a60e9eeb907d3b93b6e0e5",
    "execution": {
     "iopub.execute_input": "2024-10-28T17:51:27.746084Z",
     "iopub.status.busy": "2024-10-28T17:51:27.745641Z",
     "iopub.status.idle": "2024-10-28T17:51:28.055456Z",
     "shell.execute_reply": "2024-10-28T17:51:28.053838Z",
     "shell.execute_reply.started": "2024-10-28T17:51:27.746041Z"
    },
    "papermill": {
     "duration": 0.015258,
     "end_time": "2024-11-05T20:09:20.630339",
     "exception": false,
     "start_time": "2024-11-05T20:09:20.615081",
     "status": "completed"
    },
    "tags": []
   },
   "source": [
    "<h1> Import </h1>\n"
   ]
  },
  {
   "cell_type": "code",
   "execution_count": 1,
   "id": "625ee487",
   "metadata": {
    "execution": {
     "iopub.execute_input": "2024-11-05T20:09:20.657804Z",
     "iopub.status.busy": "2024-11-05T20:09:20.657479Z",
     "iopub.status.idle": "2024-11-05T20:09:20.661925Z",
     "shell.execute_reply": "2024-11-05T20:09:20.661148Z"
    },
    "papermill": {
     "duration": 0.020172,
     "end_time": "2024-11-05T20:09:20.663801",
     "exception": false,
     "start_time": "2024-11-05T20:09:20.643629",
     "status": "completed"
    },
    "tags": []
   },
   "outputs": [],
   "source": [
    "# !pip install transformers"
   ]
  },
  {
   "cell_type": "code",
   "execution_count": 2,
   "id": "d8c4833d",
   "metadata": {
    "execution": {
     "iopub.execute_input": "2024-11-05T20:09:20.690741Z",
     "iopub.status.busy": "2024-11-05T20:09:20.690472Z",
     "iopub.status.idle": "2024-11-05T20:09:28.287991Z",
     "shell.execute_reply": "2024-11-05T20:09:28.287038Z"
    },
    "papermill": {
     "duration": 7.613573,
     "end_time": "2024-11-05T20:09:28.290316",
     "exception": false,
     "start_time": "2024-11-05T20:09:20.676743",
     "status": "completed"
    },
    "tags": []
   },
   "outputs": [],
   "source": [
    "import numpy as np\n",
    "import pandas as pd\n",
    "import seaborn as sns\n",
    "from matplotlib import pyplot as plt\n",
    "%matplotlib inline\n",
    "\n",
    "import re\n",
    "import emoji\n",
    "from nltk.corpus import stopwords\n",
    "from nltk.tokenize import word_tokenize\n",
    "import string\n",
    "import nltk\n",
    "from sklearn.model_selection import train_test_split\n",
    "\n",
    "from transformers import AutoModel, AutoTokenizer \n",
    "import torch\n",
    "from torch.optim import AdamW\n",
    "from torch.nn import CrossEntropyLoss\n",
    "from torch.utils.data import TensorDataset, DataLoader\n",
    "from sklearn.metrics import f1_score\n",
    "\n",
    "import optuna\n",
    "from transformers import AdamW, get_linear_schedule_with_warmup"
   ]
  },
  {
   "cell_type": "code",
   "execution_count": 3,
   "id": "62f8e395",
   "metadata": {
    "execution": {
     "iopub.execute_input": "2024-11-05T20:09:28.318306Z",
     "iopub.status.busy": "2024-11-05T20:09:28.317583Z",
     "iopub.status.idle": "2024-11-05T20:09:30.275787Z",
     "shell.execute_reply": "2024-11-05T20:09:30.274713Z"
    },
    "papermill": {
     "duration": 1.974453,
     "end_time": "2024-11-05T20:09:30.278155",
     "exception": false,
     "start_time": "2024-11-05T20:09:28.303702",
     "status": "completed"
    },
    "tags": []
   },
   "outputs": [],
   "source": [
    "train = pd.read_csv('/kaggle/input/wb_winter_24/train.csv')\n",
    "test = pd.read_csv('/kaggle/input/wb_winter_24/test.csv')"
   ]
  },
  {
   "cell_type": "code",
   "execution_count": 4,
   "id": "70a35af8",
   "metadata": {
    "execution": {
     "iopub.execute_input": "2024-11-05T20:09:30.306393Z",
     "iopub.status.busy": "2024-11-05T20:09:30.306048Z",
     "iopub.status.idle": "2024-11-05T20:09:30.312787Z",
     "shell.execute_reply": "2024-11-05T20:09:30.311850Z"
    },
    "papermill": {
     "duration": 0.023016,
     "end_time": "2024-11-05T20:09:30.314669",
     "exception": false,
     "start_time": "2024-11-05T20:09:30.291653",
     "status": "completed"
    },
    "tags": []
   },
   "outputs": [
    {
     "data": {
      "text/plain": [
       "240159"
      ]
     },
     "execution_count": 4,
     "metadata": {},
     "output_type": "execute_result"
    }
   ],
   "source": [
    "len(train)"
   ]
  },
  {
   "cell_type": "markdown",
   "id": "37ba36ec",
   "metadata": {
    "papermill": {
     "duration": 0.012833,
     "end_time": "2024-11-05T20:09:30.340670",
     "exception": false,
     "start_time": "2024-11-05T20:09:30.327837",
     "status": "completed"
    },
    "tags": []
   },
   "source": [
    "<h1> Предобработка данных </h1>"
   ]
  },
  {
   "cell_type": "markdown",
   "id": "8cc75a86",
   "metadata": {
    "papermill": {
     "duration": 0.013977,
     "end_time": "2024-11-05T20:09:30.367767",
     "exception": false,
     "start_time": "2024-11-05T20:09:30.353790",
     "status": "completed"
    },
    "tags": []
   },
   "source": [
    "<h2>Очистка данных</h2>"
   ]
  },
  {
   "cell_type": "code",
   "execution_count": 5,
   "id": "ed8cf4df",
   "metadata": {
    "execution": {
     "iopub.execute_input": "2024-11-05T20:09:30.399113Z",
     "iopub.status.busy": "2024-11-05T20:09:30.398755Z",
     "iopub.status.idle": "2024-11-05T20:09:30.404699Z",
     "shell.execute_reply": "2024-11-05T20:09:30.403704Z"
    },
    "papermill": {
     "duration": 0.024663,
     "end_time": "2024-11-05T20:09:30.406907",
     "exception": false,
     "start_time": "2024-11-05T20:09:30.382244",
     "status": "completed"
    },
    "tags": []
   },
   "outputs": [],
   "source": [
    "def cleaning(text):\n",
    "    \n",
    "    text = text.lower()\n",
    "    text = re.sub(r'\\s+', ' ', text)  # если несколько пробелов между слов, заменим на один\n",
    "    text = re.sub(r'ё', 'е', text)  # заменим буквы 'ё' на 'е', чтобы часть слов определялась как одни и те же, а не разные\n",
    "    text = emoji.replace_emoji(text, replace='')  # эмодзи удалим\n",
    "    \n",
    "    return text\n",
    "    "
   ]
  },
  {
   "cell_type": "code",
   "execution_count": 6,
   "id": "7309c5db",
   "metadata": {
    "execution": {
     "iopub.execute_input": "2024-11-05T20:09:30.439720Z",
     "iopub.status.busy": "2024-11-05T20:09:30.438942Z",
     "iopub.status.idle": "2024-11-05T20:10:27.090610Z",
     "shell.execute_reply": "2024-11-05T20:10:27.089775Z"
    },
    "papermill": {
     "duration": 56.670395,
     "end_time": "2024-11-05T20:10:27.092991",
     "exception": false,
     "start_time": "2024-11-05T20:09:30.422596",
     "status": "completed"
    },
    "tags": []
   },
   "outputs": [],
   "source": [
    "train['cl_text'] = train['text'].apply(cleaning)\n",
    "test['cl_text'] = test['text'].apply(cleaning)"
   ]
  },
  {
   "cell_type": "markdown",
   "id": "728f2840",
   "metadata": {
    "papermill": {
     "duration": 0.013116,
     "end_time": "2024-11-05T20:10:27.119815",
     "exception": false,
     "start_time": "2024-11-05T20:10:27.106699",
     "status": "completed"
    },
    "tags": []
   },
   "source": [
    "<h2> Проверка данных на сбалансированность  </h2>"
   ]
  },
  {
   "cell_type": "code",
   "execution_count": 7,
   "id": "9d49f164",
   "metadata": {
    "execution": {
     "iopub.execute_input": "2024-11-05T20:10:27.149297Z",
     "iopub.status.busy": "2024-11-05T20:10:27.148501Z",
     "iopub.status.idle": "2024-11-05T20:10:27.192214Z",
     "shell.execute_reply": "2024-11-05T20:10:27.191230Z"
    },
    "papermill": {
     "duration": 0.060515,
     "end_time": "2024-11-05T20:10:27.194212",
     "exception": false,
     "start_time": "2024-11-05T20:10:27.133697",
     "status": "completed"
    },
    "tags": []
   },
   "outputs": [
    {
     "name": "stdout",
     "output_type": "stream",
     "text": [
      "с нецензурными словами: 29698\n",
      "без нецензурных слов: 210461\n"
     ]
    }
   ],
   "source": [
    "print(f'с нецензурными словами: {len(train[(train.label==1)])}')\n",
    "print(f'без нецензурных слов: {len(train[(train.label==0)])}')"
   ]
  },
  {
   "cell_type": "code",
   "execution_count": 8,
   "id": "7fddb4d7",
   "metadata": {
    "execution": {
     "iopub.execute_input": "2024-11-05T20:10:27.222091Z",
     "iopub.status.busy": "2024-11-05T20:10:27.221798Z",
     "iopub.status.idle": "2024-11-05T20:10:27.515496Z",
     "shell.execute_reply": "2024-11-05T20:10:27.514597Z"
    },
    "papermill": {
     "duration": 0.309976,
     "end_time": "2024-11-05T20:10:27.517611",
     "exception": false,
     "start_time": "2024-11-05T20:10:27.207635",
     "status": "completed"
    },
    "tags": []
   },
   "outputs": [
    {
     "data": {
      "text/plain": [
       "Text(0, 0.5, 'количество слов')"
      ]
     },
     "execution_count": 8,
     "metadata": {},
     "output_type": "execute_result"
    },
    {
     "data": {
      "image/png": "[encoded data removed]",
      "text/plain": [
       "<Figure size 640x480 with 1 Axes>"
      ]
     },
     "metadata": {},
     "output_type": "display_data"
    }
   ],
   "source": [
    "plt.bar(['c нецензурными словами', 'без нецензурных слов'], [len(train[train.label == 1]), len(train[train.label == 0])], color = ['grey', 'orange'] )\n",
    "plt.ylabel(\"количество слов\")"
   ]
  },
  {
   "cell_type": "markdown",
   "id": "26b38fef",
   "metadata": {
    "papermill": {
     "duration": 0.013609,
     "end_time": "2024-11-05T20:10:27.545317",
     "exception": false,
     "start_time": "2024-11-05T20:10:27.531708",
     "status": "completed"
    },
    "tags": []
   },
   "source": [
    "**Данные несбалансированы, необходимо в дальнейшем учитывать это**"
   ]
  },
  {
   "cell_type": "markdown",
   "id": "870e3cf0",
   "metadata": {
    "papermill": {
     "duration": 0.013489,
     "end_time": "2024-11-05T20:10:27.572434",
     "exception": false,
     "start_time": "2024-11-05T20:10:27.558945",
     "status": "completed"
    },
    "tags": []
   },
   "source": [
    "<h1>Разбивка train </h1>"
   ]
  },
  {
   "cell_type": "markdown",
   "id": "d40659e1",
   "metadata": {
    "papermill": {
     "duration": 0.013621,
     "end_time": "2024-11-05T20:10:27.599685",
     "exception": false,
     "start_time": "2024-11-05T20:10:27.586064",
     "status": "completed"
    },
    "tags": []
   },
   "source": [
    "**Разобьем train на валидационный датасет и тестовый для подбора гиперпараметров и оценки метрик**"
   ]
  },
  {
   "cell_type": "code",
   "execution_count": 9,
   "id": "943cd267",
   "metadata": {
    "execution": {
     "iopub.execute_input": "2024-11-05T20:10:27.628843Z",
     "iopub.status.busy": "2024-11-05T20:10:27.628498Z",
     "iopub.status.idle": "2024-11-05T20:10:27.685357Z",
     "shell.execute_reply": "2024-11-05T20:10:27.684624Z"
    },
    "papermill": {
     "duration": 0.073669,
     "end_time": "2024-11-05T20:10:27.687528",
     "exception": false,
     "start_time": "2024-11-05T20:10:27.613859",
     "status": "completed"
    },
    "tags": []
   },
   "outputs": [],
   "source": [
    "train_d, temp_d = train_test_split(train, test_size=0.2, random_state=1)\n",
    "val_d, test_d = train_test_split(temp_d, test_size=0.5, random_state=1)"
   ]
  },
  {
   "cell_type": "code",
   "execution_count": 10,
   "id": "5c19cffe",
   "metadata": {
    "execution": {
     "iopub.execute_input": "2024-11-05T20:10:27.716786Z",
     "iopub.status.busy": "2024-11-05T20:10:27.716470Z",
     "iopub.status.idle": "2024-11-05T20:10:27.730254Z",
     "shell.execute_reply": "2024-11-05T20:10:27.729365Z"
    },
    "papermill": {
     "duration": 0.030502,
     "end_time": "2024-11-05T20:10:27.732147",
     "exception": false,
     "start_time": "2024-11-05T20:10:27.701645",
     "status": "completed"
    },
    "tags": []
   },
   "outputs": [
    {
     "data": {
      "text/html": [
       "<div>\n",
       "<style scoped>\n",
       "    .dataframe tbody tr th:only-of-type {\n",
       "        vertical-align: middle;\n",
       "    }\n",
       "\n",
       "    .dataframe tbody tr th {\n",
       "        vertical-align: top;\n",
       "    }\n",
       "\n",
       "    .dataframe thead th {\n",
       "        text-align: right;\n",
       "    }\n",
       "</style>\n",
       "<table border=\"1\" class=\"dataframe\">\n",
       "  <thead>\n",
       "    <tr style=\"text-align: right;\">\n",
       "      <th></th>\n",
       "      <th>ID</th>\n",
       "      <th>text</th>\n",
       "      <th>label</th>\n",
       "      <th>cl_text</th>\n",
       "    </tr>\n",
       "  </thead>\n",
       "  <tbody>\n",
       "    <tr>\n",
       "      <th>113240</th>\n",
       "      <td>113240</td>\n",
       "      <td>неплохие</td>\n",
       "      <td>0</td>\n",
       "      <td>неплохие</td>\n",
       "    </tr>\n",
       "    <tr>\n",
       "      <th>167002</th>\n",
       "      <td>167002</td>\n",
       "      <td>Хочется поставить 10 звезд,отличная игра,как в...</td>\n",
       "      <td>0</td>\n",
       "      <td>хочется поставить 10 звезд,отличная игра,как в...</td>\n",
       "    </tr>\n",
       "    <tr>\n",
       "      <th>82986</th>\n",
       "      <td>82986</td>\n",
       "      <td>Спасибо, понравилось, держит</td>\n",
       "      <td>0</td>\n",
       "      <td>спасибо, понравилось, держит</td>\n",
       "    </tr>\n",
       "    <tr>\n",
       "      <th>19319</th>\n",
       "      <td>19319</td>\n",
       "      <td>Купила в подарок, очень понравился, спасибо пр...</td>\n",
       "      <td>0</td>\n",
       "      <td>купила в подарок, очень понравился, спасибо пр...</td>\n",
       "    </tr>\n",
       "    <tr>\n",
       "      <th>136255</th>\n",
       "      <td>136255</td>\n",
       "      <td>Очень удобный в использовании плотная резина и...</td>\n",
       "      <td>0</td>\n",
       "      <td>очень удобный в использовании плотная резина и...</td>\n",
       "    </tr>\n",
       "    <tr>\n",
       "      <th>...</th>\n",
       "      <td>...</td>\n",
       "      <td>...</td>\n",
       "      <td>...</td>\n",
       "      <td>...</td>\n",
       "    </tr>\n",
       "    <tr>\n",
       "      <th>229119</th>\n",
       "      <td>229119</td>\n",
       "      <td>Красивые удобные, нигде не жмет. 11кг-размер 80)</td>\n",
       "      <td>0</td>\n",
       "      <td>красивые удобные, нигде не жмет. 11кг-размер 80)</td>\n",
       "    </tr>\n",
       "    <tr>\n",
       "      <th>5192</th>\n",
       "      <td>5192</td>\n",
       "      <td>Дристала неделю, а так вкусненько 🤤</td>\n",
       "      <td>1</td>\n",
       "      <td>дристала неделю, а так вкусненько</td>\n",
       "    </tr>\n",
       "    <tr>\n",
       "      <th>208780</th>\n",
       "      <td>208780</td>\n",
       "      <td>Очень хорошее средство, стоит покупать. Одуван...</td>\n",
       "      <td>0</td>\n",
       "      <td>очень хорошее средство, стоит покупать. одуван...</td>\n",
       "    </tr>\n",
       "    <tr>\n",
       "      <th>229611</th>\n",
       "      <td>229611</td>\n",
       "      <td>Отличные кроссовки. Яркие. Удобные. Прекрасное...</td>\n",
       "      <td>0</td>\n",
       "      <td>отличные кроссовки. яркие. удобные. прекрасное...</td>\n",
       "    </tr>\n",
       "    <tr>\n",
       "      <th>128037</th>\n",
       "      <td>128037</td>\n",
       "      <td>Ремень отличный, мужу понравился. Но надо проб...</td>\n",
       "      <td>0</td>\n",
       "      <td>ремень отличный, мужу понравился. но надо проб...</td>\n",
       "    </tr>\n",
       "  </tbody>\n",
       "</table>\n",
       "<p>192127 rows × 4 columns</p>\n",
       "</div>"
      ],
      "text/plain": [
       "            ID                                               text  label  \\\n",
       "113240  113240                                           неплохие      0   \n",
       "167002  167002  Хочется поставить 10 звезд,отличная игра,как в...      0   \n",
       "82986    82986                       Спасибо, понравилось, держит      0   \n",
       "19319    19319  Купила в подарок, очень понравился, спасибо пр...      0   \n",
       "136255  136255  Очень удобный в использовании плотная резина и...      0   \n",
       "...        ...                                                ...    ...   \n",
       "229119  229119   Красивые удобные, нигде не жмет. 11кг-размер 80)      0   \n",
       "5192      5192                Дристала неделю, а так вкусненько 🤤      1   \n",
       "208780  208780  Очень хорошее средство, стоит покупать. Одуван...      0   \n",
       "229611  229611  Отличные кроссовки. Яркие. Удобные. Прекрасное...      0   \n",
       "128037  128037  Ремень отличный, мужу понравился. Но надо проб...      0   \n",
       "\n",
       "                                                  cl_text  \n",
       "113240                                           неплохие  \n",
       "167002  хочется поставить 10 звезд,отличная игра,как в...  \n",
       "82986                        спасибо, понравилось, держит  \n",
       "19319   купила в подарок, очень понравился, спасибо пр...  \n",
       "136255  очень удобный в использовании плотная резина и...  \n",
       "...                                                   ...  \n",
       "229119   красивые удобные, нигде не жмет. 11кг-размер 80)  \n",
       "5192                   дристала неделю, а так вкусненько   \n",
       "208780  очень хорошее средство, стоит покупать. одуван...  \n",
       "229611  отличные кроссовки. яркие. удобные. прекрасное...  \n",
       "128037  ремень отличный, мужу понравился. но надо проб...  \n",
       "\n",
       "[192127 rows x 4 columns]"
      ]
     },
     "execution_count": 10,
     "metadata": {},
     "output_type": "execute_result"
    }
   ],
   "source": [
    "train_d"
   ]
  },
  {
   "cell_type": "markdown",
   "id": "1d350747",
   "metadata": {
    "papermill": {
     "duration": 0.01403,
     "end_time": "2024-11-05T20:10:27.760483",
     "exception": false,
     "start_time": "2024-11-05T20:10:27.746453",
     "status": "completed"
    },
    "tags": []
   },
   "source": [
    "<h1> Токенизация для трансформера RuBERT </h1>"
   ]
  },
  {
   "cell_type": "code",
   "execution_count": 11,
   "id": "27a0ca78",
   "metadata": {
    "execution": {
     "iopub.execute_input": "2024-11-05T20:10:27.790060Z",
     "iopub.status.busy": "2024-11-05T20:10:27.789763Z",
     "iopub.status.idle": "2024-11-05T20:10:29.459260Z",
     "shell.execute_reply": "2024-11-05T20:10:29.458199Z"
    },
    "papermill": {
     "duration": 1.687111,
     "end_time": "2024-11-05T20:10:29.461689",
     "exception": false,
     "start_time": "2024-11-05T20:10:27.774578",
     "status": "completed"
    },
    "tags": []
   },
   "outputs": [
    {
     "data": {
      "application/vnd.jupyter.widget-view+json": {
       "model_id": "c3cad8524de84f4983948b94f85e0585",
       "version_major": 2,
       "version_minor": 0
      },
      "text/plain": [
       "tokenizer_config.json:   0%|          | 0.00/24.0 [00:00<?, ?B/s]"
      ]
     },
     "metadata": {},
     "output_type": "display_data"
    },
    {
     "data": {
      "application/vnd.jupyter.widget-view+json": {
       "model_id": "e9e28a0a2cb94e858b0126e55ec9e4b6",
       "version_major": 2,
       "version_minor": 0
      },
      "text/plain": [
       "config.json:   0%|          | 0.00/642 [00:00<?, ?B/s]"
      ]
     },
     "metadata": {},
     "output_type": "display_data"
    },
    {
     "data": {
      "application/vnd.jupyter.widget-view+json": {
       "model_id": "bcea7cfe9149479bbbca85a9fa6452c7",
       "version_major": 2,
       "version_minor": 0
      },
      "text/plain": [
       "vocab.txt:   0%|          | 0.00/1.65M [00:00<?, ?B/s]"
      ]
     },
     "metadata": {},
     "output_type": "display_data"
    },
    {
     "data": {
      "application/vnd.jupyter.widget-view+json": {
       "model_id": "2edaf93a229a41fcb6a7f7b5ed9db72a",
       "version_major": 2,
       "version_minor": 0
      },
      "text/plain": [
       "special_tokens_map.json:   0%|          | 0.00/112 [00:00<?, ?B/s]"
      ]
     },
     "metadata": {},
     "output_type": "display_data"
    }
   ],
   "source": [
    "model_name = \"DeepPavlov/rubert-base-cased\" # модель\n",
    "\n",
    "tokenizer = AutoTokenizer.from_pretrained(model_name) # tokenizer"
   ]
  },
  {
   "cell_type": "code",
   "execution_count": 12,
   "id": "ab72b21f",
   "metadata": {
    "execution": {
     "iopub.execute_input": "2024-11-05T20:10:29.494022Z",
     "iopub.status.busy": "2024-11-05T20:10:29.493358Z",
     "iopub.status.idle": "2024-11-05T20:10:32.362300Z",
     "shell.execute_reply": "2024-11-05T20:10:32.361228Z"
    },
    "papermill": {
     "duration": 2.887152,
     "end_time": "2024-11-05T20:10:32.364603",
     "exception": false,
     "start_time": "2024-11-05T20:10:29.477451",
     "status": "completed"
    },
    "tags": []
   },
   "outputs": [
    {
     "name": "stdout",
     "output_type": "stream",
     "text": [
      "cр.длина текста в токенах: 24.78759993337775\n"
     ]
    }
   ],
   "source": [
    "token_lengths = [len(tokenizer.encode(text, truncation=False)) for text in  val_d['text']]\n",
    "avg_length = np.mean(token_lengths)\n",
    "\n",
    "print(f\"cр.длина текста в токенах: {avg_length}\")"
   ]
  },
  {
   "cell_type": "markdown",
   "id": "42b59fce",
   "metadata": {
    "papermill": {
     "duration": 0.014877,
     "end_time": "2024-11-05T20:10:32.395107",
     "exception": false,
     "start_time": "2024-11-05T20:10:32.380230",
     "status": "completed"
    },
    "tags": []
   },
   "source": [
    "Поскольку у нас работает Центральная предельня теорема, я просто использовала валидационный датасет для поиска среднего количества слов, возьмем max_length = 40 с запасом"
   ]
  },
  {
   "cell_type": "code",
   "execution_count": 13,
   "id": "c78c3c26",
   "metadata": {
    "execution": {
     "iopub.execute_input": "2024-11-05T20:10:32.426537Z",
     "iopub.status.busy": "2024-11-05T20:10:32.426178Z",
     "iopub.status.idle": "2024-11-05T20:10:32.431355Z",
     "shell.execute_reply": "2024-11-05T20:10:32.430504Z"
    },
    "papermill": {
     "duration": 0.023045,
     "end_time": "2024-11-05T20:10:32.433273",
     "exception": false,
     "start_time": "2024-11-05T20:10:32.410228",
     "status": "completed"
    },
    "tags": []
   },
   "outputs": [],
   "source": [
    "def tokenize_data(dataset):\n",
    "    \n",
    "    texts = dataset['cl_text'].dropna().tolist()  # преобразуем в список для токенайзера\n",
    "    \n",
    "    return tokenizer(\n",
    "        texts,\n",
    "        padding=True,\n",
    "        truncation=True,\n",
    "        max_length=40,\n",
    "        return_tensors='pt')"
   ]
  },
  {
   "cell_type": "code",
   "execution_count": 14,
   "id": "76c226c8",
   "metadata": {
    "execution": {
     "iopub.execute_input": "2024-11-05T20:10:32.464533Z",
     "iopub.status.busy": "2024-11-05T20:10:32.464220Z",
     "iopub.status.idle": "2024-11-05T20:10:55.756482Z",
     "shell.execute_reply": "2024-11-05T20:10:55.755561Z"
    },
    "papermill": {
     "duration": 23.31051,
     "end_time": "2024-11-05T20:10:55.758750",
     "exception": false,
     "start_time": "2024-11-05T20:10:32.448240",
     "status": "completed"
    },
    "tags": []
   },
   "outputs": [],
   "source": [
    "train_tokens = tokenize_data(train_d)\n",
    "val_tokens = tokenize_data(val_d)\n",
    "test_tokens = tokenize_data(test_d)"
   ]
  },
  {
   "cell_type": "markdown",
   "id": "ce712afe",
   "metadata": {
    "papermill": {
     "duration": 0.014985,
     "end_time": "2024-11-05T20:10:55.789225",
     "exception": false,
     "start_time": "2024-11-05T20:10:55.774240",
     "status": "completed"
    },
    "tags": []
   },
   "source": [
    "<h2> Настройка модели для нашей задачи классификации</h2>"
   ]
  },
  {
   "cell_type": "code",
   "execution_count": 15,
   "id": "e61d0e55",
   "metadata": {
    "execution": {
     "iopub.execute_input": "2024-11-05T20:10:55.820590Z",
     "iopub.status.busy": "2024-11-05T20:10:55.820225Z",
     "iopub.status.idle": "2024-11-05T20:11:26.535740Z",
     "shell.execute_reply": "2024-11-05T20:11:26.534804Z"
    },
    "papermill": {
     "duration": 30.733748,
     "end_time": "2024-11-05T20:11:26.537917",
     "exception": false,
     "start_time": "2024-11-05T20:10:55.804169",
     "status": "completed"
    },
    "tags": []
   },
   "outputs": [
    {
     "data": {
      "application/vnd.jupyter.widget-view+json": {
       "model_id": "7cabcd5f747a46c99a8a863df4fc44c1",
       "version_major": 2,
       "version_minor": 0
      },
      "text/plain": [
       "pytorch_model.bin:   0%|          | 0.00/714M [00:00<?, ?B/s]"
      ]
     },
     "metadata": {},
     "output_type": "display_data"
    },
    {
     "name": "stderr",
     "output_type": "stream",
     "text": [
      "Some weights of BertForSequenceClassification were not initialized from the model checkpoint at DeepPavlov/rubert-base-cased and are newly initialized: ['classifier.bias', 'classifier.weight']\n",
      "You should probably TRAIN this model on a down-stream task to be able to use it for predictions and inference.\n"
     ]
    }
   ],
   "source": [
    "from transformers import AutoModelForSequenceClassification\n",
    "\n",
    "\n",
    "num_labels = 2 # (2 класса - с нецензурными словами и без)\n",
    "\n",
    "model = AutoModelForSequenceClassification.from_pretrained(model_name, num_labels=num_labels)"
   ]
  },
  {
   "cell_type": "markdown",
   "id": "469b8840",
   "metadata": {
    "papermill": {
     "duration": 0.014909,
     "end_time": "2024-11-05T20:11:26.569594",
     "exception": false,
     "start_time": "2024-11-05T20:11:26.554685",
     "status": "completed"
    },
    "tags": []
   },
   "source": [
    "Теперь модель настроена для классификации"
   ]
  },
  {
   "cell_type": "markdown",
   "id": "64d29568",
   "metadata": {
    "papermill": {
     "duration": 0.015067,
     "end_time": "2024-11-05T20:11:26.599796",
     "exception": false,
     "start_time": "2024-11-05T20:11:26.584729",
     "status": "completed"
    },
    "tags": []
   },
   "source": [
    "<h1>TensorDataset и Dataloader</h1>"
   ]
  },
  {
   "cell_type": "code",
   "execution_count": 16,
   "id": "c790b3f3",
   "metadata": {
    "execution": {
     "iopub.execute_input": "2024-11-05T20:11:26.631975Z",
     "iopub.status.busy": "2024-11-05T20:11:26.630920Z",
     "iopub.status.idle": "2024-11-05T20:11:26.645866Z",
     "shell.execute_reply": "2024-11-05T20:11:26.645000Z"
    },
    "papermill": {
     "duration": 0.033165,
     "end_time": "2024-11-05T20:11:26.647942",
     "exception": false,
     "start_time": "2024-11-05T20:11:26.614777",
     "status": "completed"
    },
    "tags": []
   },
   "outputs": [],
   "source": [
    "train_labels = torch.tensor(train_d['label'].values) # тензор меток для трейна и валидационного сетов\n",
    "val_labels = torch.tensor(val_d['label'].values)\n",
    "test_labels = torch.tensor(test_d['label'].values) # для проверочного теста, в оригинальном неь лейблов"
   ]
  },
  {
   "cell_type": "code",
   "execution_count": 17,
   "id": "488b5b4b",
   "metadata": {
    "execution": {
     "iopub.execute_input": "2024-11-05T20:11:26.683534Z",
     "iopub.status.busy": "2024-11-05T20:11:26.683195Z",
     "iopub.status.idle": "2024-11-05T20:11:26.688052Z",
     "shell.execute_reply": "2024-11-05T20:11:26.687316Z"
    },
    "papermill": {
     "duration": 0.02414,
     "end_time": "2024-11-05T20:11:26.690191",
     "exception": false,
     "start_time": "2024-11-05T20:11:26.666051",
     "status": "completed"
    },
    "tags": []
   },
   "outputs": [],
   "source": [
    "train_dataset = TensorDataset(train_tokens['input_ids'], train_tokens['attention_mask'], train_labels) # TensorDataset для всех сетов\n",
    "val_dataset = TensorDataset(val_tokens['input_ids'], val_tokens['attention_mask'], val_labels)\n",
    "test_dataset = TensorDataset(test_tokens['input_ids'], test_tokens['attention_mask'], test_labels) "
   ]
  },
  {
   "cell_type": "code",
   "execution_count": 18,
   "id": "1f1610a1",
   "metadata": {
    "execution": {
     "iopub.execute_input": "2024-11-05T20:11:26.723081Z",
     "iopub.status.busy": "2024-11-05T20:11:26.722555Z",
     "iopub.status.idle": "2024-11-05T20:11:26.727919Z",
     "shell.execute_reply": "2024-11-05T20:11:26.727128Z"
    },
    "papermill": {
     "duration": 0.024386,
     "end_time": "2024-11-05T20:11:26.729780",
     "exception": false,
     "start_time": "2024-11-05T20:11:26.705394",
     "status": "completed"
    },
    "tags": []
   },
   "outputs": [],
   "source": [
    "\n",
    "train_dataloader = DataLoader(train_dataset, batch_size = 8, shuffle = True) # dataloader для всех сетов\n",
    "val_dataloader = DataLoader(val_dataset, batch_size = 8, shuffle = False)\n",
    "test_dataloader = DataLoader(test_dataset, batch_size = 8, shuffle = False) "
   ]
  },
  {
   "cell_type": "markdown",
   "id": "16fa631b",
   "metadata": {
    "papermill": {
     "duration": 0.015274,
     "end_time": "2024-11-05T20:11:26.760917",
     "exception": false,
     "start_time": "2024-11-05T20:11:26.745643",
     "status": "completed"
    },
    "tags": []
   },
   "source": [
    "**У нас несбалансированные данные, рассчитаем веса классов для учета дисбаланса**"
   ]
  },
  {
   "cell_type": "code",
   "execution_count": 19,
   "id": "a589171f",
   "metadata": {
    "execution": {
     "iopub.execute_input": "2024-11-05T20:11:26.794048Z",
     "iopub.status.busy": "2024-11-05T20:11:26.793491Z",
     "iopub.status.idle": "2024-11-05T20:11:27.235060Z",
     "shell.execute_reply": "2024-11-05T20:11:27.234199Z"
    },
    "jupyter": {
     "outputs_hidden": true
    },
    "papermill": {
     "duration": 0.460313,
     "end_time": "2024-11-05T20:11:27.237052",
     "exception": false,
     "start_time": "2024-11-05T20:11:26.776739",
     "status": "completed"
    },
    "tags": []
   },
   "outputs": [
    {
     "data": {
      "text/plain": [
       "BertForSequenceClassification(\n",
       "  (bert): BertModel(\n",
       "    (embeddings): BertEmbeddings(\n",
       "      (word_embeddings): Embedding(119547, 768, padding_idx=0)\n",
       "      (position_embeddings): Embedding(512, 768)\n",
       "      (token_type_embeddings): Embedding(2, 768)\n",
       "      (LayerNorm): LayerNorm((768,), eps=1e-12, elementwise_affine=True)\n",
       "      (dropout): Dropout(p=0.1, inplace=False)\n",
       "    )\n",
       "    (encoder): BertEncoder(\n",
       "      (layer): ModuleList(\n",
       "        (0-11): 12 x BertLayer(\n",
       "          (attention): BertAttention(\n",
       "            (self): BertSdpaSelfAttention(\n",
       "              (query): Linear(in_features=768, out_features=768, bias=True)\n",
       "              (key): Linear(in_features=768, out_features=768, bias=True)\n",
       "              (value): Linear(in_features=768, out_features=768, bias=True)\n",
       "              (dropout): Dropout(p=0.1, inplace=False)\n",
       "            )\n",
       "            (output): BertSelfOutput(\n",
       "              (dense): Linear(in_features=768, out_features=768, bias=True)\n",
       "              (LayerNorm): LayerNorm((768,), eps=1e-12, elementwise_affine=True)\n",
       "              (dropout): Dropout(p=0.1, inplace=False)\n",
       "            )\n",
       "          )\n",
       "          (intermediate): BertIntermediate(\n",
       "            (dense): Linear(in_features=768, out_features=3072, bias=True)\n",
       "            (intermediate_act_fn): GELUActivation()\n",
       "          )\n",
       "          (output): BertOutput(\n",
       "            (dense): Linear(in_features=3072, out_features=768, bias=True)\n",
       "            (LayerNorm): LayerNorm((768,), eps=1e-12, elementwise_affine=True)\n",
       "            (dropout): Dropout(p=0.1, inplace=False)\n",
       "          )\n",
       "        )\n",
       "      )\n",
       "    )\n",
       "    (pooler): BertPooler(\n",
       "      (dense): Linear(in_features=768, out_features=768, bias=True)\n",
       "      (activation): Tanh()\n",
       "    )\n",
       "  )\n",
       "  (dropout): Dropout(p=0.1, inplace=False)\n",
       "  (classifier): Linear(in_features=768, out_features=2, bias=True)\n",
       ")"
      ]
     },
     "execution_count": 19,
     "metadata": {},
     "output_type": "execute_result"
    }
   ],
   "source": [
    "device = torch.device('cuda' if torch.cuda.is_available() else 'cpu')\n",
    "model.to(device)"
   ]
  },
  {
   "cell_type": "code",
   "execution_count": 20,
   "id": "7acb5ded",
   "metadata": {
    "execution": {
     "iopub.execute_input": "2024-11-05T20:11:27.270253Z",
     "iopub.status.busy": "2024-11-05T20:11:27.269952Z",
     "iopub.status.idle": "2024-11-05T20:11:27.310480Z",
     "shell.execute_reply": "2024-11-05T20:11:27.309740Z"
    },
    "papermill": {
     "duration": 0.05933,
     "end_time": "2024-11-05T20:11:27.312534",
     "exception": false,
     "start_time": "2024-11-05T20:11:27.253204",
     "status": "completed"
    },
    "tags": []
   },
   "outputs": [],
   "source": [
    "class_counts = train_d['label'].value_counts()\n",
    "class_weights = [len(train_d) / class_counts[i] for i in range(len(class_counts))]\n",
    "class_weights = torch.tensor(class_weights).to(device).float()"
   ]
  },
  {
   "cell_type": "code",
   "execution_count": 21,
   "id": "50ae232e",
   "metadata": {
    "execution": {
     "iopub.execute_input": "2024-11-05T20:11:27.344877Z",
     "iopub.status.busy": "2024-11-05T20:11:27.344307Z",
     "iopub.status.idle": "2024-11-05T20:11:27.348641Z",
     "shell.execute_reply": "2024-11-05T20:11:27.347766Z"
    },
    "papermill": {
     "duration": 0.02265,
     "end_time": "2024-11-05T20:11:27.350597",
     "exception": false,
     "start_time": "2024-11-05T20:11:27.327947",
     "status": "completed"
    },
    "tags": []
   },
   "outputs": [],
   "source": [
    "criterion = CrossEntropyLoss(weight=class_weights) # определяем функцию потерь с учетом весов классов"
   ]
  },
  {
   "cell_type": "markdown",
   "id": "1b038c74",
   "metadata": {
    "papermill": {
     "duration": 0.015525,
     "end_time": "2024-11-05T20:11:27.381333",
     "exception": false,
     "start_time": "2024-11-05T20:11:27.365808",
     "status": "completed"
    },
    "tags": []
   },
   "source": [
    "**Optimisator**"
   ]
  },
  {
   "cell_type": "markdown",
   "id": "affdbefe",
   "metadata": {},
   "source": [
    "Наилучшие параметры из прошлой версии:"
   ]
  },
  {
   "cell_type": "code",
   "execution_count": 22,
   "id": "1a981dd8",
   "metadata": {
    "execution": {
     "iopub.execute_input": "2024-11-05T20:11:27.413980Z",
     "iopub.status.busy": "2024-11-05T20:11:27.413280Z",
     "iopub.status.idle": "2024-11-05T20:11:28.085926Z",
     "shell.execute_reply": "2024-11-05T20:11:28.085071Z"
    },
    "papermill": {
     "duration": 0.69154,
     "end_time": "2024-11-05T20:11:28.088757",
     "exception": false,
     "start_time": "2024-11-05T20:11:27.397217",
     "status": "completed"
    },
    "tags": []
   },
   "outputs": [
    {
     "name": "stderr",
     "output_type": "stream",
     "text": [
      "/opt/conda/lib/python3.10/site-packages/transformers/optimization.py:591: FutureWarning: This implementation of AdamW is deprecated and will be removed in a future version. Use the PyTorch implementation torch.optim.AdamW instead, or set `no_deprecation_warning=True` to disable this warning\n",
      "  warnings.warn(\n"
     ]
    }
   ],
   "source": [
    "from transformers import AdamW, get_linear_schedule_with_warmup # scedule для регулирования lr\n",
    "\n",
    "optimizer = AdamW(model.parameters(), lr=8.15230295742077e-06)\n",
    "\n",
    "epochs = 3  # количество эпох и lr для rubert трансформеров предлагают часто такие значения (3-5)\n",
    "total_steps = len(train_dataloader) * epochs\n",
    "scheduler = get_linear_schedule_with_warmup(optimizer, num_warmup_steps=2, num_training_steps=total_steps)"
   ]
  },
  {
   "cell_type": "code",
   "execution_count": 23,
   "id": "6172ede1",
   "metadata": {
    "execution": {
     "iopub.execute_input": "2024-11-05T20:11:28.122347Z",
     "iopub.status.busy": "2024-11-05T20:11:28.121827Z",
     "iopub.status.idle": "2024-11-05T20:11:28.134332Z",
     "shell.execute_reply": "2024-11-05T20:11:28.133474Z"
    },
    "papermill": {
     "duration": 0.031394,
     "end_time": "2024-11-05T20:11:28.136248",
     "exception": false,
     "start_time": "2024-11-05T20:11:28.104854",
     "status": "completed"
    },
    "tags": []
   },
   "outputs": [
    {
     "data": {
      "text/plain": [
       "BertForSequenceClassification(\n",
       "  (bert): BertModel(\n",
       "    (embeddings): BertEmbeddings(\n",
       "      (word_embeddings): Embedding(119547, 768, padding_idx=0)\n",
       "      (position_embeddings): Embedding(512, 768)\n",
       "      (token_type_embeddings): Embedding(2, 768)\n",
       "      (LayerNorm): LayerNorm((768,), eps=1e-12, elementwise_affine=True)\n",
       "      (dropout): Dropout(p=0.1, inplace=False)\n",
       "    )\n",
       "    (encoder): BertEncoder(\n",
       "      (layer): ModuleList(\n",
       "        (0-11): 12 x BertLayer(\n",
       "          (attention): BertAttention(\n",
       "            (self): BertSdpaSelfAttention(\n",
       "              (query): Linear(in_features=768, out_features=768, bias=True)\n",
       "              (key): Linear(in_features=768, out_features=768, bias=True)\n",
       "              (value): Linear(in_features=768, out_features=768, bias=True)\n",
       "              (dropout): Dropout(p=0.1, inplace=False)\n",
       "            )\n",
       "            (output): BertSelfOutput(\n",
       "              (dense): Linear(in_features=768, out_features=768, bias=True)\n",
       "              (LayerNorm): LayerNorm((768,), eps=1e-12, elementwise_affine=True)\n",
       "              (dropout): Dropout(p=0.1, inplace=False)\n",
       "            )\n",
       "          )\n",
       "          (intermediate): BertIntermediate(\n",
       "            (dense): Linear(in_features=768, out_features=3072, bias=True)\n",
       "            (intermediate_act_fn): GELUActivation()\n",
       "          )\n",
       "          (output): BertOutput(\n",
       "            (dense): Linear(in_features=3072, out_features=768, bias=True)\n",
       "            (LayerNorm): LayerNorm((768,), eps=1e-12, elementwise_affine=True)\n",
       "            (dropout): Dropout(p=0.1, inplace=False)\n",
       "          )\n",
       "        )\n",
       "      )\n",
       "    )\n",
       "    (pooler): BertPooler(\n",
       "      (dense): Linear(in_features=768, out_features=768, bias=True)\n",
       "      (activation): Tanh()\n",
       "    )\n",
       "  )\n",
       "  (dropout): Dropout(p=0.1, inplace=False)\n",
       "  (classifier): Linear(in_features=768, out_features=2, bias=True)\n",
       ")"
      ]
     },
     "execution_count": 23,
     "metadata": {},
     "output_type": "execute_result"
    }
   ],
   "source": [
    "import torch\n",
    "from torch.nn import CrossEntropyLoss\n",
    "\n",
    "\n",
    "device = torch.device('cuda' if torch.cuda.is_available() else 'cpu')\n",
    "model.to(device)"
   ]
  },
  {
   "cell_type": "code",
   "execution_count": 24,
   "id": "96ad9298",
   "metadata": {
    "execution": {
     "iopub.execute_input": "2024-11-05T20:11:28.169166Z",
     "iopub.status.busy": "2024-11-05T20:11:28.168653Z",
     "iopub.status.idle": "2024-11-05T21:27:30.566147Z",
     "shell.execute_reply": "2024-11-05T21:27:30.564971Z"
    },
    "papermill": {
     "duration": 4562.434902,
     "end_time": "2024-11-05T21:27:30.586841",
     "exception": false,
     "start_time": "2024-11-05T20:11:28.151939",
     "status": "completed"
    },
    "tags": []
   },
   "outputs": [
    {
     "name": "stdout",
     "output_type": "stream",
     "text": [
      "epoch 1/3\n",
      "average training loss: 0.123\n",
      "epoch 2/3\n",
      "average training loss: 0.079\n",
      "epoch 3/3\n",
      "average training loss: 0.053\n"
     ]
    }
   ],
   "source": [
    "for epoch in range(epochs):\n",
    "    print(f'epoch {epoch + 1}/{epochs}')\n",
    "    \n",
    "    model.train()  \n",
    "    total_train_loss = 0\n",
    "    \n",
    "    for batch in train_dataloader:\n",
    "\n",
    "        b_input_ids = batch[0].to(device)\n",
    "        b_attention_mask = batch[1].to(device)\n",
    "        b_labels = batch[2].to(device)\n",
    "\n",
    "        model.zero_grad()\n",
    "        \n",
    "        outputs = model(b_input_ids, attention_mask=b_attention_mask)\n",
    "        logits = outputs.logits\n",
    "        loss = criterion(logits, b_labels) \n",
    "        total_train_loss += loss.item()\n",
    "        \n",
    "        loss.backward()\n",
    "\n",
    "        \n",
    "        optimizer.step() \n",
    "        scheduler.step()\n",
    "\n",
    "    avg_train_loss = total_train_loss / len(train_dataloader)\n",
    "    print(f\"average training loss: {avg_train_loss:.3f}\")"
   ]
  },
  {
   "cell_type": "markdown",
   "id": "de869b2e",
   "metadata": {
    "papermill": {
     "duration": 0.018621,
     "end_time": "2024-11-05T21:27:30.622132",
     "exception": false,
     "start_time": "2024-11-05T21:27:30.603511",
     "status": "completed"
    },
    "tags": []
   },
   "source": [
    "**Валидация**"
   ]
  },
  {
   "cell_type": "code",
   "execution_count": 25,
   "id": "5e6eabfd",
   "metadata": {
    "execution": {
     "iopub.execute_input": "2024-11-05T21:27:30.657448Z",
     "iopub.status.busy": "2024-11-05T21:27:30.657029Z",
     "iopub.status.idle": "2024-11-05T21:28:09.312060Z",
     "shell.execute_reply": "2024-11-05T21:28:09.311048Z"
    },
    "papermill": {
     "duration": 38.689836,
     "end_time": "2024-11-05T21:28:09.329484",
     "exception": false,
     "start_time": "2024-11-05T21:27:30.639648",
     "status": "completed"
    },
    "tags": []
   },
   "outputs": [
    {
     "name": "stdout",
     "output_type": "stream",
     "text": [
      "validation loss: 0.120\n",
      "validation accuracy: 0.976\n",
      "validation F1 score: 0.976\n"
     ]
    }
   ],
   "source": [
    "model.eval()  \n",
    "total_val_accuracy = 0\n",
    "total_val_loss = 0\n",
    "all_labels = []\n",
    "all_predictions = []\n",
    "\n",
    "with torch.no_grad():\n",
    "    for batch in val_dataloader:\n",
    "\n",
    "        b_input_ids = batch[0].to(device)\n",
    "        b_attention_mask = batch[1].to(device)\n",
    "        b_labels = batch[2].to(device)\n",
    "\n",
    "        outputs = model(b_input_ids, attention_mask=b_attention_mask)\n",
    "        logits = outputs.logits\n",
    "        loss = criterion(logits, b_labels)  \n",
    "        total_val_loss += loss.item()\n",
    "\n",
    "        predictions = torch.argmax(logits, dim=-1)\n",
    "        total_val_accuracy += (predictions == b_labels).sum().item()\n",
    "\n",
    "        all_labels.extend(b_labels.cpu().numpy())\n",
    "        all_predictions.extend(predictions.cpu().numpy())\n",
    "\n",
    "avg_val_loss = total_val_loss / len(val_dataloader)\n",
    "avg_val_accuracy = total_val_accuracy / len(val_d)\n",
    "val_f1_score = f1_score(all_labels, all_predictions, average='weighted')\n",
    "\n",
    "print(f\"validation loss: {avg_val_loss:.3f}\")\n",
    "print(f\"validation accuracy: {avg_val_accuracy:.3f}\")\n",
    "print(f\"validation F1 score: {val_f1_score:.3f}\")"
   ]
  },
  {
   "cell_type": "markdown",
   "id": "34657b27",
   "metadata": {
    "papermill": {
     "duration": 0.015945,
     "end_time": "2024-11-05T21:28:09.361577",
     "exception": false,
     "start_time": "2024-11-05T21:28:09.345632",
     "status": "completed"
    },
    "tags": []
   },
   "source": [
    "**Тестирование**"
   ]
  },
  {
   "cell_type": "code",
   "execution_count": 26,
   "id": "0c745c7f",
   "metadata": {
    "execution": {
     "iopub.execute_input": "2024-11-05T21:28:09.394988Z",
     "iopub.status.busy": "2024-11-05T21:28:09.394664Z",
     "iopub.status.idle": "2024-11-05T21:28:47.841380Z",
     "shell.execute_reply": "2024-11-05T21:28:47.840496Z"
    },
    "papermill": {
     "duration": 38.481721,
     "end_time": "2024-11-05T21:28:47.859244",
     "exception": false,
     "start_time": "2024-11-05T21:28:09.377523",
     "status": "completed"
    },
    "tags": []
   },
   "outputs": [
    {
     "name": "stdout",
     "output_type": "stream",
     "text": [
      "Test Loss: 0.119\n",
      "Test F1 Score: 0.976\n"
     ]
    }
   ],
   "source": [
    "model.eval() \n",
    "all_test_labels = []\n",
    "all_test_predictions = []\n",
    "total_test_loss = 0\n",
    "\n",
    "with torch.no_grad():\n",
    "    for batch in test_dataloader:\n",
    "\n",
    "        b_input_ids = batch[0].to(device)\n",
    "        b_attention_mask = batch[1].to(device)\n",
    "        b_labels = batch[2].to(device)\n",
    "\n",
    "        outputs = model(b_input_ids, attention_mask=b_attention_mask)\n",
    "        logits = outputs.logits\n",
    "        loss = criterion(logits, b_labels)  # используем взвешенную функцию потерь\n",
    "        total_test_loss += loss.item()\n",
    "\n",
    "        predictions = torch.argmax(logits, dim=-1)\n",
    "        all_test_labels.extend(b_labels.cpu().numpy())\n",
    "        all_test_predictions.extend(predictions.cpu().numpy())\n",
    "\n",
    "avg_test_loss = total_test_loss / len(test_dataloader)\n",
    "test_f1_score = f1_score(all_test_labels, all_test_predictions, average='weighted')\n",
    "print(f\"Test Loss: {avg_test_loss:.3f}\")\n",
    "print(f\"Test F1 Score: {test_f1_score:.3f}\")"
   ]
  },
  {
   "cell_type": "markdown",
   "id": "b8d710a2",
   "metadata": {
    "papermill": {
     "duration": 0.015775,
     "end_time": "2024-11-05T21:28:47.890996",
     "exception": false,
     "start_time": "2024-11-05T21:28:47.875221",
     "status": "completed"
    },
    "tags": []
   },
   "source": [
    "<h1>Настройка гиперпараметров для модели с Optune</h1>"
   ]
  },
  {
   "cell_type": "markdown",
   "id": "f6f7256f",
   "metadata": {
    "papermill": {
     "duration": 0.015697,
     "end_time": "2024-11-05T21:28:47.922736",
     "exception": false,
     "start_time": "2024-11-05T21:28:47.907039",
     "status": "completed"
    },
    "tags": []
   },
   "source": [
    "**Я взяла примерный range параметров, который обычно используют для fine-tune RuBert моделей**"
   ]
  },
  {
   "cell_type": "code",
   "execution_count": 27,
   "id": "ce8a9205",
   "metadata": {
    "execution": {
     "iopub.execute_input": "2024-11-05T21:28:47.956110Z",
     "iopub.status.busy": "2024-11-05T21:28:47.955782Z",
     "iopub.status.idle": "2024-11-06T04:12:29.036089Z",
     "shell.execute_reply": "2024-11-06T04:12:29.035217Z"
    },
    "papermill": {
     "duration": 24221.11151,
     "end_time": "2024-11-06T04:12:29.050097",
     "exception": false,
     "start_time": "2024-11-05T21:28:47.938587",
     "status": "completed"
    },
    "tags": []
   },
   "outputs": [
    {
     "name": "stderr",
     "output_type": "stream",
     "text": [
      "[I 2024-11-05 21:28:47,968] A new study created in memory with name: no-name-a768fcc4-cf05-4346-b146-af0a762247d8\n",
      "/opt/conda/lib/python3.10/site-packages/transformers/optimization.py:591: FutureWarning: This implementation of AdamW is deprecated and will be removed in a future version. Use the PyTorch implementation torch.optim.AdamW instead, or set `no_deprecation_warning=True` to disable this warning\n",
      "  warnings.warn(\n",
      "[I 2024-11-05 23:09:30,160] Trial 0 finished with value: 0.9808778463204982 and parameters: {'lr': 3.4900926185648676e-06, 'num_warmup_steps': 140, 'epochs': 4}. Best is trial 0 with value: 0.9808778463204982.\n"
     ]
    },
    {
     "name": "stdout",
     "output_type": "stream",
     "text": [
      "trial 0:\n",
      "lr: 3.4900926185648676e-06, num warmup steps: 140, epochs: 4\n",
      "\n",
      "val f1-score: 0.981\n",
      "\n"
     ]
    },
    {
     "name": "stderr",
     "output_type": "stream",
     "text": [
      "/opt/conda/lib/python3.10/site-packages/transformers/optimization.py:591: FutureWarning: This implementation of AdamW is deprecated and will be removed in a future version. Use the PyTorch implementation torch.optim.AdamW instead, or set `no_deprecation_warning=True` to disable this warning\n",
      "  warnings.warn(\n",
      "[I 2024-11-06 00:25:12,099] Trial 1 finished with value: 0.981055415148398 and parameters: {'lr': 6.687521561984681e-06, 'num_warmup_steps': 357, 'epochs': 3}. Best is trial 1 with value: 0.981055415148398.\n"
     ]
    },
    {
     "name": "stdout",
     "output_type": "stream",
     "text": [
      "trial 1:\n",
      "lr: 6.687521561984681e-06, num warmup steps: 357, epochs: 3\n",
      "\n",
      "val f1-score: 0.981\n",
      "\n"
     ]
    },
    {
     "name": "stderr",
     "output_type": "stream",
     "text": [
      "/opt/conda/lib/python3.10/site-packages/transformers/optimization.py:591: FutureWarning: This implementation of AdamW is deprecated and will be removed in a future version. Use the PyTorch implementation torch.optim.AdamW instead, or set `no_deprecation_warning=True` to disable this warning\n",
      "  warnings.warn(\n",
      "[I 2024-11-06 01:40:54,075] Trial 2 finished with value: 0.9794602467273072 and parameters: {'lr': 1.4107953542034764e-05, 'num_warmup_steps': 81, 'epochs': 3}. Best is trial 1 with value: 0.981055415148398.\n"
     ]
    },
    {
     "name": "stdout",
     "output_type": "stream",
     "text": [
      "trial 2:\n",
      "lr: 1.4107953542034764e-05, num warmup steps: 81, epochs: 3\n",
      "\n",
      "val f1-score: 0.979\n",
      "\n"
     ]
    },
    {
     "name": "stderr",
     "output_type": "stream",
     "text": [
      "/opt/conda/lib/python3.10/site-packages/transformers/optimization.py:591: FutureWarning: This implementation of AdamW is deprecated and will be removed in a future version. Use the PyTorch implementation torch.optim.AdamW instead, or set `no_deprecation_warning=True` to disable this warning\n",
      "  warnings.warn(\n",
      "[I 2024-11-06 02:56:35,703] Trial 3 finished with value: 0.9787954439410508 and parameters: {'lr': 1.3263838696410552e-05, 'num_warmup_steps': 475, 'epochs': 3}. Best is trial 1 with value: 0.981055415148398.\n"
     ]
    },
    {
     "name": "stdout",
     "output_type": "stream",
     "text": [
      "trial 3:\n",
      "lr: 1.3263838696410552e-05, num warmup steps: 475, epochs: 3\n",
      "\n",
      "val f1-score: 0.979\n",
      "\n"
     ]
    },
    {
     "name": "stderr",
     "output_type": "stream",
     "text": [
      "/opt/conda/lib/python3.10/site-packages/transformers/optimization.py:591: FutureWarning: This implementation of AdamW is deprecated and will be removed in a future version. Use the PyTorch implementation torch.optim.AdamW instead, or set `no_deprecation_warning=True` to disable this warning\n",
      "  warnings.warn(\n",
      "[I 2024-11-06 04:12:29,021] Trial 4 finished with value: 0.9793652516276636 and parameters: {'lr': 2.1183170278371398e-06, 'num_warmup_steps': 231, 'epochs': 3}. Best is trial 1 with value: 0.981055415148398.\n"
     ]
    },
    {
     "name": "stdout",
     "output_type": "stream",
     "text": [
      "trial 4:\n",
      "lr: 2.1183170278371398e-06, num warmup steps: 231, epochs: 3\n",
      "\n",
      "val f1-score: 0.979\n",
      "\n",
      "best f1-score на валидации  0.981055415148398\n"
     ]
    }
   ],
   "source": [
    "best_f1 = -float('inf')\n",
    "best_model_state = None\n",
    "\n",
    "def parametrization(trial):\n",
    "    try:\n",
    "        lr = trial.suggest_float('lr', 2e-6, 2e-5, log=True)\n",
    "        num_warmup_steps = trial.suggest_int('num_warmup_steps', 0, 500)\n",
    "        epochs = trial.suggest_int('epochs', 3, 4)\n",
    "        optimizer = AdamW(model.parameters(), lr=lr, betas=(0.9, 0.999), eps=1e-08) # часто finr-tune с такими параметрами для оптимизатора\n",
    "\n",
    "        total_steps = len(train_dataloader) * epochs \n",
    "        scheduler = get_linear_schedule_with_warmup(optimizer, num_warmup_steps=num_warmup_steps, num_training_steps=total_steps)\n",
    "\n",
    "        criterion = CrossEntropyLoss(weight=class_weights) # функция потери с учетом весов\n",
    "\n",
    "        # обучаем\n",
    "        model.to(device)\n",
    "        for epoch in range(epochs):\n",
    "            model.train()\n",
    "            for batch in train_dataloader:\n",
    "                b_input_ids = batch[0].to(device)\n",
    "                b_attention_mask = batch[1].to(device)\n",
    "                b_labels = batch[2].to(device)\n",
    "\n",
    "                model.zero_grad()\n",
    "                outputs = model(b_input_ids, attention_mask=b_attention_mask)\n",
    "                logits = outputs.logits\n",
    "                loss = criterion(logits, b_labels)\n",
    "                loss.backward()\n",
    "\n",
    "                optimizer.step()\n",
    "                scheduler.step()\n",
    "\n",
    "        # валидация\n",
    "        model.eval()\n",
    "        all_val_labels = []\n",
    "        all_val_predictions = []\n",
    "\n",
    "        with torch.no_grad():\n",
    "            for batch in val_dataloader:\n",
    "                b_input_ids = batch[0].to(device)\n",
    "                b_attention_mask = batch[1].to(device)\n",
    "                b_labels = batch[2].to(device)\n",
    "\n",
    "                outputs = model(b_input_ids, attention_mask=b_attention_mask)\n",
    "                logits = outputs.logits\n",
    "                predictions = torch.argmax(logits, dim=-1)\n",
    "\n",
    "                all_val_labels.extend(b_labels.cpu().numpy())\n",
    "                all_val_predictions.extend(predictions.cpu().numpy())\n",
    "\n",
    "        val_f1 = f1_score(all_val_labels, all_val_predictions, average='weighted') #  f1-score\n",
    "\n",
    "        print(f\"trial {trial.number}:\")\n",
    "        print(f\"lr: {lr}, num warmup steps: {num_warmup_steps}, epochs: {epochs}\\n\")\n",
    "        print(f\"val f1-score: {val_f1:.3f}\\n\")\n",
    "\n",
    "        global best_f1, best_model_state\n",
    "        if val_f1 > best_f1:\n",
    "            best_f1 = val_f1\n",
    "            best_model_state = model.state_dict()\n",
    "\n",
    "        return val_f1\n",
    "    except:\n",
    "        print(f\"Ошибка при trial {trial.number}: {e}\")\n",
    "        return 0 \n",
    "        \n",
    "\n",
    "\n",
    "# исследования Optuna\n",
    "study = optuna.create_study(direction='maximize')\n",
    "study.optimize(parametrization, n_trials=5)  # число испытаний\n",
    "\n",
    "\n",
    "model.load_state_dict(best_model_state)\n",
    "print(\"best f1-score на валидации \", best_f1) # загрузка наилучших весов модели для трейна"
   ]
  },
  {
   "cell_type": "code",
   "execution_count": 28,
   "id": "ec1f94b3",
   "metadata": {
    "execution": {
     "iopub.execute_input": "2024-11-06T04:12:29.189658Z",
     "iopub.status.busy": "2024-11-06T04:12:29.189307Z",
     "iopub.status.idle": "2024-11-06T04:12:29.194163Z",
     "shell.execute_reply": "2024-11-06T04:12:29.193325Z"
    },
    "papermill": {
     "duration": 0.025362,
     "end_time": "2024-11-06T04:12:29.196121",
     "exception": false,
     "start_time": "2024-11-06T04:12:29.170759",
     "status": "completed"
    },
    "tags": []
   },
   "outputs": [
    {
     "name": "stdout",
     "output_type": "stream",
     "text": [
      "{'lr': 6.687521561984681e-06, 'num_warmup_steps': 357, 'epochs': 3}\n"
     ]
    }
   ],
   "source": [
    "best_trial = study.best_trial\n",
    "best_params = best_trial.params\n",
    "print(best_params)"
   ]
  },
  {
   "cell_type": "markdown",
   "id": "21b6e784",
   "metadata": {},
   "source": [
    "`Лучшие параметры:`\n",
    "\n",
    "- lr: `6.687521561984681e-06`\n",
    "- num warmup steps: `357`\n",
    "- epochs: `3`\n",
    "- val f1-score: `0.981`"
   ]
  },
  {
   "cell_type": "markdown",
   "id": "7e0cc47a",
   "metadata": {
    "papermill": {
     "duration": 0.01796,
     "end_time": "2024-11-06T05:54:48.480272",
     "exception": false,
     "start_time": "2024-11-06T05:54:48.462312",
     "status": "completed"
    },
    "tags": []
   },
   "source": [
    "**ТЕСТ**"
   ]
  },
  {
   "cell_type": "code",
   "execution_count": 32,
   "id": "b048fc46",
   "metadata": {
    "execution": {
     "iopub.execute_input": "2024-11-06T05:54:48.517516Z",
     "iopub.status.busy": "2024-11-06T05:54:48.517151Z",
     "iopub.status.idle": "2024-11-06T05:55:26.941273Z",
     "shell.execute_reply": "2024-11-06T05:55:26.940298Z"
    },
    "papermill": {
     "duration": 38.463545,
     "end_time": "2024-11-06T05:55:26.961715",
     "exception": false,
     "start_time": "2024-11-06T05:54:48.498170",
     "status": "completed"
    },
    "tags": []
   },
   "outputs": [
    {
     "name": "stdout",
     "output_type": "stream",
     "text": [
      "Test Loss: 0.339\n",
      "Test F1 Score: 0.980\n"
     ]
    }
   ],
   "source": [
    "model.eval() \n",
    "all_test_labels = []\n",
    "all_test_predictions = []\n",
    "total_test_loss = 0\n",
    "\n",
    "with torch.no_grad():\n",
    "    for batch in test_dataloader:\n",
    "\n",
    "        b_input_ids = batch[0].to(device)\n",
    "        b_attention_mask = batch[1].to(device)\n",
    "        b_labels = batch[2].to(device)\n",
    "\n",
    "        outputs = model(b_input_ids, attention_mask=b_attention_mask)\n",
    "        logits = outputs.logits\n",
    "        loss = criterion(logits, b_labels)  \n",
    "        total_test_loss += loss.item()\n",
    "\n",
    "        predictions = torch.argmax(logits, dim=-1)\n",
    "        all_test_labels.extend(b_labels.cpu().numpy())\n",
    "        all_test_predictions.extend(predictions.cpu().numpy())\n",
    "\n",
    "avg_test_loss = total_test_loss / len(test_dataloader)\n",
    "test_f1_score = f1_score(all_test_labels, all_test_predictions, average='weighted')\n",
    "print(f\"Test Loss: {avg_test_loss:.3f}\")\n",
    "print(f\"Test F1 Score: {test_f1_score:.3f}\")"
   ]
  },
  {
   "cell_type": "markdown",
   "id": "db28d484",
   "metadata": {
    "papermill": {
     "duration": 0.017685,
     "end_time": "2024-11-06T05:55:26.997373",
     "exception": false,
     "start_time": "2024-11-06T05:55:26.979688",
     "status": "completed"
    },
    "tags": []
   },
   "source": [
    "**Оригинальный тест**"
   ]
  },
  {
   "cell_type": "code",
   "execution_count": 33,
   "id": "4a9c88b5",
   "metadata": {
    "execution": {
     "iopub.execute_input": "2024-11-06T05:55:27.034593Z",
     "iopub.status.busy": "2024-11-06T05:55:27.034224Z",
     "iopub.status.idle": "2024-11-06T05:56:47.791296Z",
     "shell.execute_reply": "2024-11-06T05:56:47.790472Z"
    },
    "papermill": {
     "duration": 80.778548,
     "end_time": "2024-11-06T05:56:47.793733",
     "exception": false,
     "start_time": "2024-11-06T05:55:27.015185",
     "status": "completed"
    },
    "tags": []
   },
   "outputs": [],
   "source": [
    "org_test_tokens = tokenize_data(test)\n",
    "\n",
    "org_test_dataset = TensorDataset(org_test_tokens['input_ids'], org_test_tokens['attention_mask'])\n",
    "org_test_dataloader = DataLoader(org_test_dataset, batch_size = 8, shuffle = False)\n",
    "\n",
    "model.eval()\n",
    "\n",
    "org_test_predictions = []\n",
    "\n",
    "with torch.no_grad():\n",
    "    for batch in org_test_dataloader:\n",
    "        b_input_ids = batch[0].to(device)\n",
    "        b_attention_mask = batch[1].to(device)\n",
    "\n",
    "        outputs = model(b_input_ids, attention_mask=b_attention_mask)\n",
    "        logits = outputs.logits\n",
    "\n",
    "        predictions = torch.argmax(logits, dim=-1)\n",
    "\n",
    "        org_test_predictions.extend(predictions.cpu().numpy())\n",
    "\n",
    "test_ids = list(range(len(org_test_predictions)))  #индексы\n",
    "predictions_df = pd.DataFrame({'ID': test_ids, 'label': org_test_predictions})\n",
    "predictions_df.to_csv('submission.csv', index=False, lineterminator='\\n')"
   ]
  },
  {
   "cell_type": "markdown",
   "id": "6c2aaf29",
   "metadata": {
    "papermill": {
     "duration": 0.056876,
     "end_time": "2024-11-06T05:56:47.869207",
     "exception": false,
     "start_time": "2024-11-06T05:56:47.812331",
     "status": "completed"
    },
    "tags": []
   },
   "source": [
    "`Наилучший результат в моем случае показала версия модели без применения дополнительных методов, таких как аугментация данных, дополнительная очистка или использование более крупной параметризованной модели, например, ruBERT-large`"
   ]
  }
 ],
 "metadata": {
  "kaggle": {
   "accelerator": "gpu",
   "dataSources": [
    {
     "databundleVersionId": 9619404,
     "sourceId": 85131,
     "sourceType": "competition"
    }
   ],
   "dockerImageVersionId": 30786,
   "isGpuEnabled": true,
   "isInternetEnabled": true,
   "language": "python",
   "sourceType": "notebook"
  },
  "kernelspec": {
   "display_name": "Python 3 (ipykernel)",
   "language": "python",
   "name": "python3"
  },
  "language_info": {
   "codemirror_mode": {
    "name": "ipython",
    "version": 3
   },
   "file_extension": ".py",
   "mimetype": "text/x-python",
   "name": "python",
   "nbconvert_exporter": "python",
   "pygments_lexer": "ipython3",
   "version": "3.11.5"
  },
  "papermill": {
   "default_parameters": {},
   "duration": 35252.832379,
   "end_time": "2024-11-06T05:56:50.707947",
   "environment_variables": {},
   "exception": null,
   "input_path": "__notebook__.ipynb",
   "output_path": "__notebook__.ipynb",
   "parameters": {},
   "start_time": "2024-11-05T20:09:17.875568",
   "version": "2.6.0"
  },
  "widgets": {
   "application/vnd.jupyter.widget-state+json": {
    "state": {
     "00b613f72b004bdd99b14a2a0ac3fde9": {
      "model_module": "@jupyter-widgets/controls",
      "model_module_version": "1.5.0",
      "model_name": "DescriptionStyleModel",
      "state": {
       "_model_module": "@jupyter-widgets/controls",
       "_model_module_version": "1.5.0",
       "_model_name": "DescriptionStyleModel",
       "_view_count": null,
       "_view_module": "@jupyter-widgets/base",
       "_view_module_version": "1.2.0",
       "_view_name": "StyleView",
       "description_width": ""
      }
     },
     "01b811b8f8be49c6ae4b5fc80ecfaab7": {
      "model_module": "@jupyter-widgets/base",
      "model_module_version": "1.2.0",
      "model_name": "LayoutModel",
      "state": {
       "_model_module": "@jupyter-widgets/base",
       "_model_module_version": "1.2.0",
       "_model_name": "LayoutModel",
       "_view_count": null,
       "_view_module": "@jupyter-widgets/base",
       "_view_module_version": "1.2.0",
       "_view_name": "LayoutView",
       "align_content": null,
       "align_items": null,
       "align_self": null,
       "border": null,
       "bottom": null,
       "display": null,
       "flex": null,
       "flex_flow": null,
       "grid_area": null,
       "grid_auto_columns": null,
       "grid_auto_flow": null,
       "grid_auto_rows": null,
       "grid_column": null,
       "grid_gap": null,
       "grid_row": null,
       "grid_template_areas": null,
       "grid_template_columns": null,
       "grid_template_rows": null,
       "height": null,
       "justify_content": null,
       "justify_items": null,
       "left": null,
       "margin": null,
       "max_height": null,
       "max_width": null,
       "min_height": null,
       "min_width": null,
       "object_fit": null,
       "object_position": null,
       "order": null,
       "overflow": null,
       "overflow_x": null,
       "overflow_y": null,
       "padding": null,
       "right": null,
       "top": null,
       "visibility": null,
       "width": null
      }
     },
     "0378ea427180493c934a9211a86812fd": {
      "model_module": "@jupyter-widgets/base",
      "model_module_version": "1.2.0",
      "model_name": "LayoutModel",
      "state": {
       "_model_module": "@jupyter-widgets/base",
       "_model_module_version": "1.2.0",
       "_model_name": "LayoutModel",
       "_view_count": null,
       "_view_module": "@jupyter-widgets/base",
       "_view_module_version": "1.2.0",
       "_view_name": "LayoutView",
       "align_content": null,
       "align_items": null,
       "align_self": null,
       "border": null,
       "bottom": null,
       "display": null,
       "flex": null,
       "flex_flow": null,
       "grid_area": null,
       "grid_auto_columns": null,
       "grid_auto_flow": null,
       "grid_auto_rows": null,
       "grid_column": null,
       "grid_gap": null,
       "grid_row": null,
       "grid_template_areas": null,
       "grid_template_columns": null,
       "grid_template_rows": null,
       "height": null,
       "justify_content": null,
       "justify_items": null,
       "left": null,
       "margin": null,
       "max_height": null,
       "max_width": null,
       "min_height": null,
       "min_width": null,
       "object_fit": null,
       "object_position": null,
       "order": null,
       "overflow": null,
       "overflow_x": null,
       "overflow_y": null,
       "padding": null,
       "right": null,
       "top": null,
       "visibility": null,
       "width": null
      }
     },
     "1a7cebbf2ca047b9bc5506ec8478b9fb": {
      "model_module": "@jupyter-widgets/base",
      "model_module_version": "1.2.0",
      "model_name": "LayoutModel",
      "state": {
       "_model_module": "@jupyter-widgets/base",
       "_model_module_version": "1.2.0",
       "_model_name": "LayoutModel",
       "_view_count": null,
       "_view_module": "@jupyter-widgets/base",
       "_view_module_version": "1.2.0",
       "_view_name": "LayoutView",
       "align_content": null,
       "align_items": null,
       "align_self": null,
       "border": null,
       "bottom": null,
       "display": null,
       "flex": null,
       "flex_flow": null,
       "grid_area": null,
       "grid_auto_columns": null,
       "grid_auto_flow": null,
       "grid_auto_rows": null,
       "grid_column": null,
       "grid_gap": null,
       "grid_row": null,
       "grid_template_areas": null,
       "grid_template_columns": null,
       "grid_template_rows": null,
       "height": null,
       "justify_content": null,
       "justify_items": null,
       "left": null,
       "margin": null,
       "max_height": null,
       "max_width": null,
       "min_height": null,
       "min_width": null,
       "object_fit": null,
       "object_position": null,
       "order": null,
       "overflow": null,
       "overflow_x": null,
       "overflow_y": null,
       "padding": null,
       "right": null,
       "top": null,
       "visibility": null,
       "width": null
      }
     },
     "1d32510e071442eb94611cd35da32f3c": {
      "model_module": "@jupyter-widgets/controls",
      "model_module_version": "1.5.0",
      "model_name": "ProgressStyleModel",
      "state": {
       "_model_module": "@jupyter-widgets/controls",
       "_model_module_version": "1.5.0",
       "_model_name": "ProgressStyleModel",
       "_view_count": null,
       "_view_module": "@jupyter-widgets/base",
       "_view_module_version": "1.2.0",
       "_view_name": "StyleView",
       "bar_color": null,
       "description_width": ""
      }
     },
     "21971d0f61214708a1fa6ebb111149ed": {
      "model_module": "@jupyter-widgets/controls",
      "model_module_version": "1.5.0",
      "model_name": "HTMLModel",
      "state": {
       "_dom_classes": [],
       "_model_module": "@jupyter-widgets/controls",
       "_model_module_version": "1.5.0",
       "_model_name": "HTMLModel",
       "_view_count": null,
       "_view_module": "@jupyter-widgets/controls",
       "_view_module_version": "1.5.0",
       "_view_name": "HTMLView",
       "description": "",
       "description_tooltip": null,
       "layout": "IPY_MODEL_1a7cebbf2ca047b9bc5506ec8478b9fb",
       "placeholder": "​",
       "style": "IPY_MODEL_00b613f72b004bdd99b14a2a0ac3fde9",
       "value": " 714M/714M [00:28&lt;00:00, 26.6MB/s]"
      }
     },
     "24567e0d664b414db191a9982da8e896": {
      "model_module": "@jupyter-widgets/controls",
      "model_module_version": "1.5.0",
      "model_name": "DescriptionStyleModel",
      "state": {
       "_model_module": "@jupyter-widgets/controls",
       "_model_module_version": "1.5.0",
       "_model_name": "DescriptionStyleModel",
       "_view_count": null,
       "_view_module": "@jupyter-widgets/base",
       "_view_module_version": "1.2.0",
       "_view_name": "StyleView",
       "description_width": ""
      }
     },
     "25887161499b4a8d947c8d892df9c48f": {
      "model_module": "@jupyter-widgets/controls",
      "model_module_version": "1.5.0",
      "model_name": "ProgressStyleModel",
      "state": {
       "_model_module": "@jupyter-widgets/controls",
       "_model_module_version": "1.5.0",
       "_model_name": "ProgressStyleModel",
       "_view_count": null,
       "_view_module": "@jupyter-widgets/base",
       "_view_module_version": "1.2.0",
       "_view_name": "StyleView",
       "bar_color": null,
       "description_width": ""
      }
     },
     "25a5b53234be4971acabffea13bbfd4d": {
      "model_module": "@jupyter-widgets/base",
      "model_module_version": "1.2.0",
      "model_name": "LayoutModel",
      "state": {
       "_model_module": "@jupyter-widgets/base",
       "_model_module_version": "1.2.0",
       "_model_name": "LayoutModel",
       "_view_count": null,
       "_view_module": "@jupyter-widgets/base",
       "_view_module_version": "1.2.0",
       "_view_name": "LayoutView",
       "align_content": null,
       "align_items": null,
       "align_self": null,
       "border": null,
       "bottom": null,
       "display": null,
       "flex": null,
       "flex_flow": null,
       "grid_area": null,
       "grid_auto_columns": null,
       "grid_auto_flow": null,
       "grid_auto_rows": null,
       "grid_column": null,
       "grid_gap": null,
       "grid_row": null,
       "grid_template_areas": null,
       "grid_template_columns": null,
       "grid_template_rows": null,
       "height": null,
       "justify_content": null,
       "justify_items": null,
       "left": null,
       "margin": null,
       "max_height": null,
       "max_width": null,
       "min_height": null,
       "min_width": null,
       "object_fit": null,
       "object_position": null,
       "order": null,
       "overflow": null,
       "overflow_x": null,
       "overflow_y": null,
       "padding": null,
       "right": null,
       "top": null,
       "visibility": null,
       "width": null
      }
     },
     "289685e247ac447c99a4613f566f302b": {
      "model_module": "@jupyter-widgets/controls",
      "model_module_version": "1.5.0",
      "model_name": "DescriptionStyleModel",
      "state": {
       "_model_module": "@jupyter-widgets/controls",
       "_model_module_version": "1.5.0",
       "_model_name": "DescriptionStyleModel",
       "_view_count": null,
       "_view_module": "@jupyter-widgets/base",
       "_view_module_version": "1.2.0",
       "_view_name": "StyleView",
       "description_width": ""
      }
     },
     "2edaf93a229a41fcb6a7f7b5ed9db72a": {
      "model_module": "@jupyter-widgets/controls",
      "model_module_version": "1.5.0",
      "model_name": "HBoxModel",
      "state": {
       "_dom_classes": [],
       "_model_module": "@jupyter-widgets/controls",
       "_model_module_version": "1.5.0",
       "_model_name": "HBoxModel",
       "_view_count": null,
       "_view_module": "@jupyter-widgets/controls",
       "_view_module_version": "1.5.0",
       "_view_name": "HBoxView",
       "box_style": "",
       "children": [
        "IPY_MODEL_a4fe735966694fb6a222b640ae77be12",
        "IPY_MODEL_994616e589bd4f9895dceb37019a068b",
        "IPY_MODEL_d43c74055de041299ae367fc57548f33"
       ],
       "layout": "IPY_MODEL_37872c72b61d4f7090d0003f74abe014"
      }
     },
     "31210c14b8e1471db87ada112bd0239e": {
      "model_module": "@jupyter-widgets/controls",
      "model_module_version": "1.5.0",
      "model_name": "ProgressStyleModel",
      "state": {
       "_model_module": "@jupyter-widgets/controls",
       "_model_module_version": "1.5.0",
       "_model_name": "ProgressStyleModel",
       "_view_count": null,
       "_view_module": "@jupyter-widgets/base",
       "_view_module_version": "1.2.0",
       "_view_name": "StyleView",
       "bar_color": null,
       "description_width": ""
      }
     },
     "3274be9e89404d268ed27fa40481352d": {
      "model_module": "@jupyter-widgets/base",
      "model_module_version": "1.2.0",
      "model_name": "LayoutModel",
      "state": {
       "_model_module": "@jupyter-widgets/base",
       "_model_module_version": "1.2.0",
       "_model_name": "LayoutModel",
       "_view_count": null,
       "_view_module": "@jupyter-widgets/base",
       "_view_module_version": "1.2.0",
       "_view_name": "LayoutView",
       "align_content": null,
       "align_items": null,
       "align_self": null,
       "border": null,
       "bottom": null,
       "display": null,
       "flex": null,
       "flex_flow": null,
       "grid_area": null,
       "grid_auto_columns": null,
       "grid_auto_flow": null,
       "grid_auto_rows": null,
       "grid_column": null,
       "grid_gap": null,
       "grid_row": null,
       "grid_template_areas": null,
       "grid_template_columns": null,
       "grid_template_rows": null,
       "height": null,
       "justify_content": null,
       "justify_items": null,
       "left": null,
       "margin": null,
       "max_height": null,
       "max_width": null,
       "min_height": null,
       "min_width": null,
       "object_fit": null,
       "object_position": null,
       "order": null,
       "overflow": null,
       "overflow_x": null,
       "overflow_y": null,
       "padding": null,
       "right": null,
       "top": null,
       "visibility": null,
       "width": null
      }
     },
     "361cbca66ba54957a5fd32118cc29aab": {
      "model_module": "@jupyter-widgets/controls",
      "model_module_version": "1.5.0",
      "model_name": "HTMLModel",
      "state": {
       "_dom_classes": [],
       "_model_module": "@jupyter-widgets/controls",
       "_model_module_version": "1.5.0",
       "_model_name": "HTMLModel",
       "_view_count": null,
       "_view_module": "@jupyter-widgets/controls",
       "_view_module_version": "1.5.0",
       "_view_name": "HTMLView",
       "description": "",
       "description_tooltip": null,
       "layout": "IPY_MODEL_ef7ce5ecceca4e9397c8f7a2c24b782a",
       "placeholder": "​",
       "style": "IPY_MODEL_289685e247ac447c99a4613f566f302b",
       "value": " 24.0/24.0 [00:00&lt;00:00, 1.59kB/s]"
      }
     },
     "37872c72b61d4f7090d0003f74abe014": {
      "model_module": "@jupyter-widgets/base",
      "model_module_version": "1.2.0",
      "model_name": "LayoutModel",
      "state": {
       "_model_module": "@jupyter-widgets/base",
       "_model_module_version": "1.2.0",
       "_model_name": "LayoutModel",
       "_view_count": null,
       "_view_module": "@jupyter-widgets/base",
       "_view_module_version": "1.2.0",
       "_view_name": "LayoutView",
       "align_content": null,
       "align_items": null,
       "align_self": null,
       "border": null,
       "bottom": null,
       "display": null,
       "flex": null,
       "flex_flow": null,
       "grid_area": null,
       "grid_auto_columns": null,
       "grid_auto_flow": null,
       "grid_auto_rows": null,
       "grid_column": null,
       "grid_gap": null,
       "grid_row": null,
       "grid_template_areas": null,
       "grid_template_columns": null,
       "grid_template_rows": null,
       "height": null,
       "justify_content": null,
       "justify_items": null,
       "left": null,
       "margin": null,
       "max_height": null,
       "max_width": null,
       "min_height": null,
       "min_width": null,
       "object_fit": null,
       "object_position": null,
       "order": null,
       "overflow": null,
       "overflow_x": null,
       "overflow_y": null,
       "padding": null,
       "right": null,
       "top": null,
       "visibility": null,
       "width": null
      }
     },
     "426642cc337d43f4a78661cf282c98e5": {
      "model_module": "@jupyter-widgets/controls",
      "model_module_version": "1.5.0",
      "model_name": "DescriptionStyleModel",
      "state": {
       "_model_module": "@jupyter-widgets/controls",
       "_model_module_version": "1.5.0",
       "_model_name": "DescriptionStyleModel",
       "_view_count": null,
       "_view_module": "@jupyter-widgets/base",
       "_view_module_version": "1.2.0",
       "_view_name": "StyleView",
       "description_width": ""
      }
     },
     "42d25c0fe72a48218b3078d2e13bc838": {
      "model_module": "@jupyter-widgets/controls",
      "model_module_version": "1.5.0",
      "model_name": "DescriptionStyleModel",
      "state": {
       "_model_module": "@jupyter-widgets/controls",
       "_model_module_version": "1.5.0",
       "_model_name": "DescriptionStyleModel",
       "_view_count": null,
       "_view_module": "@jupyter-widgets/base",
       "_view_module_version": "1.2.0",
       "_view_name": "StyleView",
       "description_width": ""
      }
     },
     "46bb935de9ad470cb4b3514d5763f3f4": {
      "model_module": "@jupyter-widgets/controls",
      "model_module_version": "1.5.0",
      "model_name": "HTMLModel",
      "state": {
       "_dom_classes": [],
       "_model_module": "@jupyter-widgets/controls",
       "_model_module_version": "1.5.0",
       "_model_name": "HTMLModel",
       "_view_count": null,
       "_view_module": "@jupyter-widgets/controls",
       "_view_module_version": "1.5.0",
       "_view_name": "HTMLView",
       "description": "",
       "description_tooltip": null,
       "layout": "IPY_MODEL_79733c0d77e34124a79d96f1f7fe3dde",
       "placeholder": "​",
       "style": "IPY_MODEL_e8569df0d0f649eb809f46306835323c",
       "value": "pytorch_model.bin: 100%"
      }
     },
     "4d56b62ba64c4083ad0f882171269799": {
      "model_module": "@jupyter-widgets/controls",
      "model_module_version": "1.5.0",
      "model_name": "DescriptionStyleModel",
      "state": {
       "_model_module": "@jupyter-widgets/controls",
       "_model_module_version": "1.5.0",
       "_model_name": "DescriptionStyleModel",
       "_view_count": null,
       "_view_module": "@jupyter-widgets/base",
       "_view_module_version": "1.2.0",
       "_view_name": "StyleView",
       "description_width": ""
      }
     },
     "4ffd46cee4ff4df5bd18db97a17342f3": {
      "model_module": "@jupyter-widgets/base",
      "model_module_version": "1.2.0",
      "model_name": "LayoutModel",
      "state": {
       "_model_module": "@jupyter-widgets/base",
       "_model_module_version": "1.2.0",
       "_model_name": "LayoutModel",
       "_view_count": null,
       "_view_module": "@jupyter-widgets/base",
       "_view_module_version": "1.2.0",
       "_view_name": "LayoutView",
       "align_content": null,
       "align_items": null,
       "align_self": null,
       "border": null,
       "bottom": null,
       "display": null,
       "flex": null,
       "flex_flow": null,
       "grid_area": null,
       "grid_auto_columns": null,
       "grid_auto_flow": null,
       "grid_auto_rows": null,
       "grid_column": null,
       "grid_gap": null,
       "grid_row": null,
       "grid_template_areas": null,
       "grid_template_columns": null,
       "grid_template_rows": null,
       "height": null,
       "justify_content": null,
       "justify_items": null,
       "left": null,
       "margin": null,
       "max_height": null,
       "max_width": null,
       "min_height": null,
       "min_width": null,
       "object_fit": null,
       "object_position": null,
       "order": null,
       "overflow": null,
       "overflow_x": null,
       "overflow_y": null,
       "padding": null,
       "right": null,
       "top": null,
       "visibility": null,
       "width": null
      }
     },
     "564be69c9a994b7391229364b23c7cde": {
      "model_module": "@jupyter-widgets/base",
      "model_module_version": "1.2.0",
      "model_name": "LayoutModel",
      "state": {
       "_model_module": "@jupyter-widgets/base",
       "_model_module_version": "1.2.0",
       "_model_name": "LayoutModel",
       "_view_count": null,
       "_view_module": "@jupyter-widgets/base",
       "_view_module_version": "1.2.0",
       "_view_name": "LayoutView",
       "align_content": null,
       "align_items": null,
       "align_self": null,
       "border": null,
       "bottom": null,
       "display": null,
       "flex": null,
       "flex_flow": null,
       "grid_area": null,
       "grid_auto_columns": null,
       "grid_auto_flow": null,
       "grid_auto_rows": null,
       "grid_column": null,
       "grid_gap": null,
       "grid_row": null,
       "grid_template_areas": null,
       "grid_template_columns": null,
       "grid_template_rows": null,
       "height": null,
       "justify_content": null,
       "justify_items": null,
       "left": null,
       "margin": null,
       "max_height": null,
       "max_width": null,
       "min_height": null,
       "min_width": null,
       "object_fit": null,
       "object_position": null,
       "order": null,
       "overflow": null,
       "overflow_x": null,
       "overflow_y": null,
       "padding": null,
       "right": null,
       "top": null,
       "visibility": null,
       "width": null
      }
     },
     "5bed9c5793794158889a4148ea5359b5": {
      "model_module": "@jupyter-widgets/base",
      "model_module_version": "1.2.0",
      "model_name": "LayoutModel",
      "state": {
       "_model_module": "@jupyter-widgets/base",
       "_model_module_version": "1.2.0",
       "_model_name": "LayoutModel",
       "_view_count": null,
       "_view_module": "@jupyter-widgets/base",
       "_view_module_version": "1.2.0",
       "_view_name": "LayoutView",
       "align_content": null,
       "align_items": null,
       "align_self": null,
       "border": null,
       "bottom": null,
       "display": null,
       "flex": null,
       "flex_flow": null,
       "grid_area": null,
       "grid_auto_columns": null,
       "grid_auto_flow": null,
       "grid_auto_rows": null,
       "grid_column": null,
       "grid_gap": null,
       "grid_row": null,
       "grid_template_areas": null,
       "grid_template_columns": null,
       "grid_template_rows": null,
       "height": null,
       "justify_content": null,
       "justify_items": null,
       "left": null,
       "margin": null,
       "max_height": null,
       "max_width": null,
       "min_height": null,
       "min_width": null,
       "object_fit": null,
       "object_position": null,
       "order": null,
       "overflow": null,
       "overflow_x": null,
       "overflow_y": null,
       "padding": null,
       "right": null,
       "top": null,
       "visibility": null,
       "width": null
      }
     },
     "5f6c444652db43d18803d9cbb02f1174": {
      "model_module": "@jupyter-widgets/controls",
      "model_module_version": "1.5.0",
      "model_name": "DescriptionStyleModel",
      "state": {
       "_model_module": "@jupyter-widgets/controls",
       "_model_module_version": "1.5.0",
       "_model_name": "DescriptionStyleModel",
       "_view_count": null,
       "_view_module": "@jupyter-widgets/base",
       "_view_module_version": "1.2.0",
       "_view_name": "StyleView",
       "description_width": ""
      }
     },
     "5fb9cd0e90334f65879184e993b4216e": {
      "model_module": "@jupyter-widgets/base",
      "model_module_version": "1.2.0",
      "model_name": "LayoutModel",
      "state": {
       "_model_module": "@jupyter-widgets/base",
       "_model_module_version": "1.2.0",
       "_model_name": "LayoutModel",
       "_view_count": null,
       "_view_module": "@jupyter-widgets/base",
       "_view_module_version": "1.2.0",
       "_view_name": "LayoutView",
       "align_content": null,
       "align_items": null,
       "align_self": null,
       "border": null,
       "bottom": null,
       "display": null,
       "flex": null,
       "flex_flow": null,
       "grid_area": null,
       "grid_auto_columns": null,
       "grid_auto_flow": null,
       "grid_auto_rows": null,
       "grid_column": null,
       "grid_gap": null,
       "grid_row": null,
       "grid_template_areas": null,
       "grid_template_columns": null,
       "grid_template_rows": null,
       "height": null,
       "justify_content": null,
       "justify_items": null,
       "left": null,
       "margin": null,
       "max_height": null,
       "max_width": null,
       "min_height": null,
       "min_width": null,
       "object_fit": null,
       "object_position": null,
       "order": null,
       "overflow": null,
       "overflow_x": null,
       "overflow_y": null,
       "padding": null,
       "right": null,
       "top": null,
       "visibility": null,
       "width": null
      }
     },
     "5fe9821b99fd4dffaa4685b73ffdb862": {
      "model_module": "@jupyter-widgets/controls",
      "model_module_version": "1.5.0",
      "model_name": "DescriptionStyleModel",
      "state": {
       "_model_module": "@jupyter-widgets/controls",
       "_model_module_version": "1.5.0",
       "_model_name": "DescriptionStyleModel",
       "_view_count": null,
       "_view_module": "@jupyter-widgets/base",
       "_view_module_version": "1.2.0",
       "_view_name": "StyleView",
       "description_width": ""
      }
     },
     "6390e7c4fa9e4e97ba3ef913fddb4021": {
      "model_module": "@jupyter-widgets/base",
      "model_module_version": "1.2.0",
      "model_name": "LayoutModel",
      "state": {
       "_model_module": "@jupyter-widgets/base",
       "_model_module_version": "1.2.0",
       "_model_name": "LayoutModel",
       "_view_count": null,
       "_view_module": "@jupyter-widgets/base",
       "_view_module_version": "1.2.0",
       "_view_name": "LayoutView",
       "align_content": null,
       "align_items": null,
       "align_self": null,
       "border": null,
       "bottom": null,
       "display": null,
       "flex": null,
       "flex_flow": null,
       "grid_area": null,
       "grid_auto_columns": null,
       "grid_auto_flow": null,
       "grid_auto_rows": null,
       "grid_column": null,
       "grid_gap": null,
       "grid_row": null,
       "grid_template_areas": null,
       "grid_template_columns": null,
       "grid_template_rows": null,
       "height": null,
       "justify_content": null,
       "justify_items": null,
       "left": null,
       "margin": null,
       "max_height": null,
       "max_width": null,
       "min_height": null,
       "min_width": null,
       "object_fit": null,
       "object_position": null,
       "order": null,
       "overflow": null,
       "overflow_x": null,
       "overflow_y": null,
       "padding": null,
       "right": null,
       "top": null,
       "visibility": null,
       "width": null
      }
     },
     "7266fb8b2afa4a219da79f870915ad3a": {
      "model_module": "@jupyter-widgets/controls",
      "model_module_version": "1.5.0",
      "model_name": "HTMLModel",
      "state": {
       "_dom_classes": [],
       "_model_module": "@jupyter-widgets/controls",
       "_model_module_version": "1.5.0",
       "_model_name": "HTMLModel",
       "_view_count": null,
       "_view_module": "@jupyter-widgets/controls",
       "_view_module_version": "1.5.0",
       "_view_name": "HTMLView",
       "description": "",
       "description_tooltip": null,
       "layout": "IPY_MODEL_c9cf64ecc7174b0184d819131dc09574",
       "placeholder": "​",
       "style": "IPY_MODEL_42d25c0fe72a48218b3078d2e13bc838",
       "value": " 642/642 [00:00&lt;00:00, 49.7kB/s]"
      }
     },
     "79733c0d77e34124a79d96f1f7fe3dde": {
      "model_module": "@jupyter-widgets/base",
      "model_module_version": "1.2.0",
      "model_name": "LayoutModel",
      "state": {
       "_model_module": "@jupyter-widgets/base",
       "_model_module_version": "1.2.0",
       "_model_name": "LayoutModel",
       "_view_count": null,
       "_view_module": "@jupyter-widgets/base",
       "_view_module_version": "1.2.0",
       "_view_name": "LayoutView",
       "align_content": null,
       "align_items": null,
       "align_self": null,
       "border": null,
       "bottom": null,
       "display": null,
       "flex": null,
       "flex_flow": null,
       "grid_area": null,
       "grid_auto_columns": null,
       "grid_auto_flow": null,
       "grid_auto_rows": null,
       "grid_column": null,
       "grid_gap": null,
       "grid_row": null,
       "grid_template_areas": null,
       "grid_template_columns": null,
       "grid_template_rows": null,
       "height": null,
       "justify_content": null,
       "justify_items": null,
       "left": null,
       "margin": null,
       "max_height": null,
       "max_width": null,
       "min_height": null,
       "min_width": null,
       "object_fit": null,
       "object_position": null,
       "order": null,
       "overflow": null,
       "overflow_x": null,
       "overflow_y": null,
       "padding": null,
       "right": null,
       "top": null,
       "visibility": null,
       "width": null
      }
     },
     "7cabcd5f747a46c99a8a863df4fc44c1": {
      "model_module": "@jupyter-widgets/controls",
      "model_module_version": "1.5.0",
      "model_name": "HBoxModel",
      "state": {
       "_dom_classes": [],
       "_model_module": "@jupyter-widgets/controls",
       "_model_module_version": "1.5.0",
       "_model_name": "HBoxModel",
       "_view_count": null,
       "_view_module": "@jupyter-widgets/controls",
       "_view_module_version": "1.5.0",
       "_view_name": "HBoxView",
       "box_style": "",
       "children": [
        "IPY_MODEL_46bb935de9ad470cb4b3514d5763f3f4",
        "IPY_MODEL_902cecedaaf24dbbb368a9b62304c470",
        "IPY_MODEL_21971d0f61214708a1fa6ebb111149ed"
       ],
       "layout": "IPY_MODEL_4ffd46cee4ff4df5bd18db97a17342f3"
      }
     },
     "82e91b909d374e52b3556a2005b810c2": {
      "model_module": "@jupyter-widgets/base",
      "model_module_version": "1.2.0",
      "model_name": "LayoutModel",
      "state": {
       "_model_module": "@jupyter-widgets/base",
       "_model_module_version": "1.2.0",
       "_model_name": "LayoutModel",
       "_view_count": null,
       "_view_module": "@jupyter-widgets/base",
       "_view_module_version": "1.2.0",
       "_view_name": "LayoutView",
       "align_content": null,
       "align_items": null,
       "align_self": null,
       "border": null,
       "bottom": null,
       "display": null,
       "flex": null,
       "flex_flow": null,
       "grid_area": null,
       "grid_auto_columns": null,
       "grid_auto_flow": null,
       "grid_auto_rows": null,
       "grid_column": null,
       "grid_gap": null,
       "grid_row": null,
       "grid_template_areas": null,
       "grid_template_columns": null,
       "grid_template_rows": null,
       "height": null,
       "justify_content": null,
       "justify_items": null,
       "left": null,
       "margin": null,
       "max_height": null,
       "max_width": null,
       "min_height": null,
       "min_width": null,
       "object_fit": null,
       "object_position": null,
       "order": null,
       "overflow": null,
       "overflow_x": null,
       "overflow_y": null,
       "padding": null,
       "right": null,
       "top": null,
       "visibility": null,
       "width": null
      }
     },
     "8416d0b34a8a4b72a1268a5b6559e3db": {
      "model_module": "@jupyter-widgets/base",
      "model_module_version": "1.2.0",
      "model_name": "LayoutModel",
      "state": {
       "_model_module": "@jupyter-widgets/base",
       "_model_module_version": "1.2.0",
       "_model_name": "LayoutModel",
       "_view_count": null,
       "_view_module": "@jupyter-widgets/base",
       "_view_module_version": "1.2.0",
       "_view_name": "LayoutView",
       "align_content": null,
       "align_items": null,
       "align_self": null,
       "border": null,
       "bottom": null,
       "display": null,
       "flex": null,
       "flex_flow": null,
       "grid_area": null,
       "grid_auto_columns": null,
       "grid_auto_flow": null,
       "grid_auto_rows": null,
       "grid_column": null,
       "grid_gap": null,
       "grid_row": null,
       "grid_template_areas": null,
       "grid_template_columns": null,
       "grid_template_rows": null,
       "height": null,
       "justify_content": null,
       "justify_items": null,
       "left": null,
       "margin": null,
       "max_height": null,
       "max_width": null,
       "min_height": null,
       "min_width": null,
       "object_fit": null,
       "object_position": null,
       "order": null,
       "overflow": null,
       "overflow_x": null,
       "overflow_y": null,
       "padding": null,
       "right": null,
       "top": null,
       "visibility": null,
       "width": null
      }
     },
     "87dbc54f8fef4b8f9d2830b085533b51": {
      "model_module": "@jupyter-widgets/base",
      "model_module_version": "1.2.0",
      "model_name": "LayoutModel",
      "state": {
       "_model_module": "@jupyter-widgets/base",
       "_model_module_version": "1.2.0",
       "_model_name": "LayoutModel",
       "_view_count": null,
       "_view_module": "@jupyter-widgets/base",
       "_view_module_version": "1.2.0",
       "_view_name": "LayoutView",
       "align_content": null,
       "align_items": null,
       "align_self": null,
       "border": null,
       "bottom": null,
       "display": null,
       "flex": null,
       "flex_flow": null,
       "grid_area": null,
       "grid_auto_columns": null,
       "grid_auto_flow": null,
       "grid_auto_rows": null,
       "grid_column": null,
       "grid_gap": null,
       "grid_row": null,
       "grid_template_areas": null,
       "grid_template_columns": null,
       "grid_template_rows": null,
       "height": null,
       "justify_content": null,
       "justify_items": null,
       "left": null,
       "margin": null,
       "max_height": null,
       "max_width": null,
       "min_height": null,
       "min_width": null,
       "object_fit": null,
       "object_position": null,
       "order": null,
       "overflow": null,
       "overflow_x": null,
       "overflow_y": null,
       "padding": null,
       "right": null,
       "top": null,
       "visibility": null,
       "width": null
      }
     },
     "902cecedaaf24dbbb368a9b62304c470": {
      "model_module": "@jupyter-widgets/controls",
      "model_module_version": "1.5.0",
      "model_name": "FloatProgressModel",
      "state": {
       "_dom_classes": [],
       "_model_module": "@jupyter-widgets/controls",
       "_model_module_version": "1.5.0",
       "_model_name": "FloatProgressModel",
       "_view_count": null,
       "_view_module": "@jupyter-widgets/controls",
       "_view_module_version": "1.5.0",
       "_view_name": "ProgressView",
       "bar_style": "success",
       "description": "",
       "description_tooltip": null,
       "layout": "IPY_MODEL_5bed9c5793794158889a4148ea5359b5",
       "max": 714355318,
       "min": 0,
       "orientation": "horizontal",
       "style": "IPY_MODEL_b2ea83e12449457c81af251d5ea9ab5a",
       "value": 714355318
      }
     },
     "994616e589bd4f9895dceb37019a068b": {
      "model_module": "@jupyter-widgets/controls",
      "model_module_version": "1.5.0",
      "model_name": "FloatProgressModel",
      "state": {
       "_dom_classes": [],
       "_model_module": "@jupyter-widgets/controls",
       "_model_module_version": "1.5.0",
       "_model_name": "FloatProgressModel",
       "_view_count": null,
       "_view_module": "@jupyter-widgets/controls",
       "_view_module_version": "1.5.0",
       "_view_name": "ProgressView",
       "bar_style": "success",
       "description": "",
       "description_tooltip": null,
       "layout": "IPY_MODEL_e7240b9a12ee4320ae32540e6f9b2232",
       "max": 112,
       "min": 0,
       "orientation": "horizontal",
       "style": "IPY_MODEL_31210c14b8e1471db87ada112bd0239e",
       "value": 112
      }
     },
     "9aefb20e1c2247029f57ce7615179e00": {
      "model_module": "@jupyter-widgets/controls",
      "model_module_version": "1.5.0",
      "model_name": "HTMLModel",
      "state": {
       "_dom_classes": [],
       "_model_module": "@jupyter-widgets/controls",
       "_model_module_version": "1.5.0",
       "_model_name": "HTMLModel",
       "_view_count": null,
       "_view_module": "@jupyter-widgets/controls",
       "_view_module_version": "1.5.0",
       "_view_name": "HTMLView",
       "description": "",
       "description_tooltip": null,
       "layout": "IPY_MODEL_82e91b909d374e52b3556a2005b810c2",
       "placeholder": "​",
       "style": "IPY_MODEL_5fe9821b99fd4dffaa4685b73ffdb862",
       "value": "vocab.txt: 100%"
      }
     },
     "a4fe735966694fb6a222b640ae77be12": {
      "model_module": "@jupyter-widgets/controls",
      "model_module_version": "1.5.0",
      "model_name": "HTMLModel",
      "state": {
       "_dom_classes": [],
       "_model_module": "@jupyter-widgets/controls",
       "_model_module_version": "1.5.0",
       "_model_name": "HTMLModel",
       "_view_count": null,
       "_view_module": "@jupyter-widgets/controls",
       "_view_module_version": "1.5.0",
       "_view_name": "HTMLView",
       "description": "",
       "description_tooltip": null,
       "layout": "IPY_MODEL_5fb9cd0e90334f65879184e993b4216e",
       "placeholder": "​",
       "style": "IPY_MODEL_ec6e378d0cb8488287fbab40abfc8feb",
       "value": "special_tokens_map.json: 100%"
      }
     },
     "a6e338c5759a4ddc8c8e145356ce92aa": {
      "model_module": "@jupyter-widgets/controls",
      "model_module_version": "1.5.0",
      "model_name": "HTMLModel",
      "state": {
       "_dom_classes": [],
       "_model_module": "@jupyter-widgets/controls",
       "_model_module_version": "1.5.0",
       "_model_name": "HTMLModel",
       "_view_count": null,
       "_view_module": "@jupyter-widgets/controls",
       "_view_module_version": "1.5.0",
       "_view_name": "HTMLView",
       "description": "",
       "description_tooltip": null,
       "layout": "IPY_MODEL_3274be9e89404d268ed27fa40481352d",
       "placeholder": "​",
       "style": "IPY_MODEL_426642cc337d43f4a78661cf282c98e5",
       "value": " 1.65M/1.65M [00:00&lt;00:00, 5.37MB/s]"
      }
     },
     "b2ea83e12449457c81af251d5ea9ab5a": {
      "model_module": "@jupyter-widgets/controls",
      "model_module_version": "1.5.0",
      "model_name": "ProgressStyleModel",
      "state": {
       "_model_module": "@jupyter-widgets/controls",
       "_model_module_version": "1.5.0",
       "_model_name": "ProgressStyleModel",
       "_view_count": null,
       "_view_module": "@jupyter-widgets/base",
       "_view_module_version": "1.2.0",
       "_view_name": "StyleView",
       "bar_color": null,
       "description_width": ""
      }
     },
     "b32be8a66c3e45f39e4a85818dd868b8": {
      "model_module": "@jupyter-widgets/base",
      "model_module_version": "1.2.0",
      "model_name": "LayoutModel",
      "state": {
       "_model_module": "@jupyter-widgets/base",
       "_model_module_version": "1.2.0",
       "_model_name": "LayoutModel",
       "_view_count": null,
       "_view_module": "@jupyter-widgets/base",
       "_view_module_version": "1.2.0",
       "_view_name": "LayoutView",
       "align_content": null,
       "align_items": null,
       "align_self": null,
       "border": null,
       "bottom": null,
       "display": null,
       "flex": null,
       "flex_flow": null,
       "grid_area": null,
       "grid_auto_columns": null,
       "grid_auto_flow": null,
       "grid_auto_rows": null,
       "grid_column": null,
       "grid_gap": null,
       "grid_row": null,
       "grid_template_areas": null,
       "grid_template_columns": null,
       "grid_template_rows": null,
       "height": null,
       "justify_content": null,
       "justify_items": null,
       "left": null,
       "margin": null,
       "max_height": null,
       "max_width": null,
       "min_height": null,
       "min_width": null,
       "object_fit": null,
       "object_position": null,
       "order": null,
       "overflow": null,
       "overflow_x": null,
       "overflow_y": null,
       "padding": null,
       "right": null,
       "top": null,
       "visibility": null,
       "width": null
      }
     },
     "bcea7cfe9149479bbbca85a9fa6452c7": {
      "model_module": "@jupyter-widgets/controls",
      "model_module_version": "1.5.0",
      "model_name": "HBoxModel",
      "state": {
       "_dom_classes": [],
       "_model_module": "@jupyter-widgets/controls",
       "_model_module_version": "1.5.0",
       "_model_name": "HBoxModel",
       "_view_count": null,
       "_view_module": "@jupyter-widgets/controls",
       "_view_module_version": "1.5.0",
       "_view_name": "HBoxView",
       "box_style": "",
       "children": [
        "IPY_MODEL_9aefb20e1c2247029f57ce7615179e00",
        "IPY_MODEL_fccd33b7e56a4574993eeeb46b150506",
        "IPY_MODEL_a6e338c5759a4ddc8c8e145356ce92aa"
       ],
       "layout": "IPY_MODEL_b32be8a66c3e45f39e4a85818dd868b8"
      }
     },
     "c3429688485f40c4b2455d8ac78870ed": {
      "model_module": "@jupyter-widgets/controls",
      "model_module_version": "1.5.0",
      "model_name": "HTMLModel",
      "state": {
       "_dom_classes": [],
       "_model_module": "@jupyter-widgets/controls",
       "_model_module_version": "1.5.0",
       "_model_name": "HTMLModel",
       "_view_count": null,
       "_view_module": "@jupyter-widgets/controls",
       "_view_module_version": "1.5.0",
       "_view_name": "HTMLView",
       "description": "",
       "description_tooltip": null,
       "layout": "IPY_MODEL_01b811b8f8be49c6ae4b5fc80ecfaab7",
       "placeholder": "​",
       "style": "IPY_MODEL_24567e0d664b414db191a9982da8e896",
       "value": "config.json: 100%"
      }
     },
     "c3cad8524de84f4983948b94f85e0585": {
      "model_module": "@jupyter-widgets/controls",
      "model_module_version": "1.5.0",
      "model_name": "HBoxModel",
      "state": {
       "_dom_classes": [],
       "_model_module": "@jupyter-widgets/controls",
       "_model_module_version": "1.5.0",
       "_model_name": "HBoxModel",
       "_view_count": null,
       "_view_module": "@jupyter-widgets/controls",
       "_view_module_version": "1.5.0",
       "_view_name": "HBoxView",
       "box_style": "",
       "children": [
        "IPY_MODEL_e3a8956d05ae497d953189de0a48521e",
        "IPY_MODEL_da4350fff0bf4428a934a9add06202e7",
        "IPY_MODEL_361cbca66ba54957a5fd32118cc29aab"
       ],
       "layout": "IPY_MODEL_564be69c9a994b7391229364b23c7cde"
      }
     },
     "c9cf64ecc7174b0184d819131dc09574": {
      "model_module": "@jupyter-widgets/base",
      "model_module_version": "1.2.0",
      "model_name": "LayoutModel",
      "state": {
       "_model_module": "@jupyter-widgets/base",
       "_model_module_version": "1.2.0",
       "_model_name": "LayoutModel",
       "_view_count": null,
       "_view_module": "@jupyter-widgets/base",
       "_view_module_version": "1.2.0",
       "_view_name": "LayoutView",
       "align_content": null,
       "align_items": null,
       "align_self": null,
       "border": null,
       "bottom": null,
       "display": null,
       "flex": null,
       "flex_flow": null,
       "grid_area": null,
       "grid_auto_columns": null,
       "grid_auto_flow": null,
       "grid_auto_rows": null,
       "grid_column": null,
       "grid_gap": null,
       "grid_row": null,
       "grid_template_areas": null,
       "grid_template_columns": null,
       "grid_template_rows": null,
       "height": null,
       "justify_content": null,
       "justify_items": null,
       "left": null,
       "margin": null,
       "max_height": null,
       "max_width": null,
       "min_height": null,
       "min_width": null,
       "object_fit": null,
       "object_position": null,
       "order": null,
       "overflow": null,
       "overflow_x": null,
       "overflow_y": null,
       "padding": null,
       "right": null,
       "top": null,
       "visibility": null,
       "width": null
      }
     },
     "d2239cd2ca644afc992e0a6533b61901": {
      "model_module": "@jupyter-widgets/base",
      "model_module_version": "1.2.0",
      "model_name": "LayoutModel",
      "state": {
       "_model_module": "@jupyter-widgets/base",
       "_model_module_version": "1.2.0",
       "_model_name": "LayoutModel",
       "_view_count": null,
       "_view_module": "@jupyter-widgets/base",
       "_view_module_version": "1.2.0",
       "_view_name": "LayoutView",
       "align_content": null,
       "align_items": null,
       "align_self": null,
       "border": null,
       "bottom": null,
       "display": null,
       "flex": null,
       "flex_flow": null,
       "grid_area": null,
       "grid_auto_columns": null,
       "grid_auto_flow": null,
       "grid_auto_rows": null,
       "grid_column": null,
       "grid_gap": null,
       "grid_row": null,
       "grid_template_areas": null,
       "grid_template_columns": null,
       "grid_template_rows": null,
       "height": null,
       "justify_content": null,
       "justify_items": null,
       "left": null,
       "margin": null,
       "max_height": null,
       "max_width": null,
       "min_height": null,
       "min_width": null,
       "object_fit": null,
       "object_position": null,
       "order": null,
       "overflow": null,
       "overflow_x": null,
       "overflow_y": null,
       "padding": null,
       "right": null,
       "top": null,
       "visibility": null,
       "width": null
      }
     },
     "d43c74055de041299ae367fc57548f33": {
      "model_module": "@jupyter-widgets/controls",
      "model_module_version": "1.5.0",
      "model_name": "HTMLModel",
      "state": {
       "_dom_classes": [],
       "_model_module": "@jupyter-widgets/controls",
       "_model_module_version": "1.5.0",
       "_model_name": "HTMLModel",
       "_view_count": null,
       "_view_module": "@jupyter-widgets/controls",
       "_view_module_version": "1.5.0",
       "_view_name": "HTMLView",
       "description": "",
       "description_tooltip": null,
       "layout": "IPY_MODEL_6390e7c4fa9e4e97ba3ef913fddb4021",
       "placeholder": "​",
       "style": "IPY_MODEL_4d56b62ba64c4083ad0f882171269799",
       "value": " 112/112 [00:00&lt;00:00, 9.10kB/s]"
      }
     },
     "da4350fff0bf4428a934a9add06202e7": {
      "model_module": "@jupyter-widgets/controls",
      "model_module_version": "1.5.0",
      "model_name": "FloatProgressModel",
      "state": {
       "_dom_classes": [],
       "_model_module": "@jupyter-widgets/controls",
       "_model_module_version": "1.5.0",
       "_model_name": "FloatProgressModel",
       "_view_count": null,
       "_view_module": "@jupyter-widgets/controls",
       "_view_module_version": "1.5.0",
       "_view_name": "ProgressView",
       "bar_style": "success",
       "description": "",
       "description_tooltip": null,
       "layout": "IPY_MODEL_25a5b53234be4971acabffea13bbfd4d",
       "max": 24,
       "min": 0,
       "orientation": "horizontal",
       "style": "IPY_MODEL_1d32510e071442eb94611cd35da32f3c",
       "value": 24
      }
     },
     "e3a8956d05ae497d953189de0a48521e": {
      "model_module": "@jupyter-widgets/controls",
      "model_module_version": "1.5.0",
      "model_name": "HTMLModel",
      "state": {
       "_dom_classes": [],
       "_model_module": "@jupyter-widgets/controls",
       "_model_module_version": "1.5.0",
       "_model_name": "HTMLModel",
       "_view_count": null,
       "_view_module": "@jupyter-widgets/controls",
       "_view_module_version": "1.5.0",
       "_view_name": "HTMLView",
       "description": "",
       "description_tooltip": null,
       "layout": "IPY_MODEL_87dbc54f8fef4b8f9d2830b085533b51",
       "placeholder": "​",
       "style": "IPY_MODEL_5f6c444652db43d18803d9cbb02f1174",
       "value": "tokenizer_config.json: 100%"
      }
     },
     "e5fd76d08a004b2fa53a11f78f275aec": {
      "model_module": "@jupyter-widgets/controls",
      "model_module_version": "1.5.0",
      "model_name": "FloatProgressModel",
      "state": {
       "_dom_classes": [],
       "_model_module": "@jupyter-widgets/controls",
       "_model_module_version": "1.5.0",
       "_model_name": "FloatProgressModel",
       "_view_count": null,
       "_view_module": "@jupyter-widgets/controls",
       "_view_module_version": "1.5.0",
       "_view_name": "ProgressView",
       "bar_style": "success",
       "description": "",
       "description_tooltip": null,
       "layout": "IPY_MODEL_0378ea427180493c934a9211a86812fd",
       "max": 642,
       "min": 0,
       "orientation": "horizontal",
       "style": "IPY_MODEL_25887161499b4a8d947c8d892df9c48f",
       "value": 642
      }
     },
     "e7240b9a12ee4320ae32540e6f9b2232": {
      "model_module": "@jupyter-widgets/base",
      "model_module_version": "1.2.0",
      "model_name": "LayoutModel",
      "state": {
       "_model_module": "@jupyter-widgets/base",
       "_model_module_version": "1.2.0",
       "_model_name": "LayoutModel",
       "_view_count": null,
       "_view_module": "@jupyter-widgets/base",
       "_view_module_version": "1.2.0",
       "_view_name": "LayoutView",
       "align_content": null,
       "align_items": null,
       "align_self": null,
       "border": null,
       "bottom": null,
       "display": null,
       "flex": null,
       "flex_flow": null,
       "grid_area": null,
       "grid_auto_columns": null,
       "grid_auto_flow": null,
       "grid_auto_rows": null,
       "grid_column": null,
       "grid_gap": null,
       "grid_row": null,
       "grid_template_areas": null,
       "grid_template_columns": null,
       "grid_template_rows": null,
       "height": null,
       "justify_content": null,
       "justify_items": null,
       "left": null,
       "margin": null,
       "max_height": null,
       "max_width": null,
       "min_height": null,
       "min_width": null,
       "object_fit": null,
       "object_position": null,
       "order": null,
       "overflow": null,
       "overflow_x": null,
       "overflow_y": null,
       "padding": null,
       "right": null,
       "top": null,
       "visibility": null,
       "width": null
      }
     },
     "e8569df0d0f649eb809f46306835323c": {
      "model_module": "@jupyter-widgets/controls",
      "model_module_version": "1.5.0",
      "model_name": "DescriptionStyleModel",
      "state": {
       "_model_module": "@jupyter-widgets/controls",
       "_model_module_version": "1.5.0",
       "_model_name": "DescriptionStyleModel",
       "_view_count": null,
       "_view_module": "@jupyter-widgets/base",
       "_view_module_version": "1.2.0",
       "_view_name": "StyleView",
       "description_width": ""
      }
     },
     "e9e28a0a2cb94e858b0126e55ec9e4b6": {
      "model_module": "@jupyter-widgets/controls",
      "model_module_version": "1.5.0",
      "model_name": "HBoxModel",
      "state": {
       "_dom_classes": [],
       "_model_module": "@jupyter-widgets/controls",
       "_model_module_version": "1.5.0",
       "_model_name": "HBoxModel",
       "_view_count": null,
       "_view_module": "@jupyter-widgets/controls",
       "_view_module_version": "1.5.0",
       "_view_name": "HBoxView",
       "box_style": "",
       "children": [
        "IPY_MODEL_c3429688485f40c4b2455d8ac78870ed",
        "IPY_MODEL_e5fd76d08a004b2fa53a11f78f275aec",
        "IPY_MODEL_7266fb8b2afa4a219da79f870915ad3a"
       ],
       "layout": "IPY_MODEL_d2239cd2ca644afc992e0a6533b61901"
      }
     },
     "ec6e378d0cb8488287fbab40abfc8feb": {
      "model_module": "@jupyter-widgets/controls",
      "model_module_version": "1.5.0",
      "model_name": "DescriptionStyleModel",
      "state": {
       "_model_module": "@jupyter-widgets/controls",
       "_model_module_version": "1.5.0",
       "_model_name": "DescriptionStyleModel",
       "_view_count": null,
       "_view_module": "@jupyter-widgets/base",
       "_view_module_version": "1.2.0",
       "_view_name": "StyleView",
       "description_width": ""
      }
     },
     "ef7ce5ecceca4e9397c8f7a2c24b782a": {
      "model_module": "@jupyter-widgets/base",
      "model_module_version": "1.2.0",
      "model_name": "LayoutModel",
      "state": {
       "_model_module": "@jupyter-widgets/base",
       "_model_module_version": "1.2.0",
       "_model_name": "LayoutModel",
       "_view_count": null,
       "_view_module": "@jupyter-widgets/base",
       "_view_module_version": "1.2.0",
       "_view_name": "LayoutView",
       "align_content": null,
       "align_items": null,
       "align_self": null,
       "border": null,
       "bottom": null,
       "display": null,
       "flex": null,
       "flex_flow": null,
       "grid_area": null,
       "grid_auto_columns": null,
       "grid_auto_flow": null,
       "grid_auto_rows": null,
       "grid_column": null,
       "grid_gap": null,
       "grid_row": null,
       "grid_template_areas": null,
       "grid_template_columns": null,
       "grid_template_rows": null,
       "height": null,
       "justify_content": null,
       "justify_items": null,
       "left": null,
       "margin": null,
       "max_height": null,
       "max_width": null,
       "min_height": null,
       "min_width": null,
       "object_fit": null,
       "object_position": null,
       "order": null,
       "overflow": null,
       "overflow_x": null,
       "overflow_y": null,
       "padding": null,
       "right": null,
       "top": null,
       "visibility": null,
       "width": null
      }
     },
     "f561084266f9447e91eea5467c972f02": {
      "model_module": "@jupyter-widgets/controls",
      "model_module_version": "1.5.0",
      "model_name": "ProgressStyleModel",
      "state": {
       "_model_module": "@jupyter-widgets/controls",
       "_model_module_version": "1.5.0",
       "_model_name": "ProgressStyleModel",
       "_view_count": null,
       "_view_module": "@jupyter-widgets/base",
       "_view_module_version": "1.2.0",
       "_view_name": "StyleView",
       "bar_color": null,
       "description_width": ""
      }
     },
     "fccd33b7e56a4574993eeeb46b150506": {
      "model_module": "@jupyter-widgets/controls",
      "model_module_version": "1.5.0",
      "model_name": "FloatProgressModel",
      "state": {
       "_dom_classes": [],
       "_model_module": "@jupyter-widgets/controls",
       "_model_module_version": "1.5.0",
       "_model_name": "FloatProgressModel",
       "_view_count": null,
       "_view_module": "@jupyter-widgets/controls",
       "_view_module_version": "1.5.0",
       "_view_name": "ProgressView",
       "bar_style": "success",
       "description": "",
       "description_tooltip": null,
       "layout": "IPY_MODEL_8416d0b34a8a4b72a1268a5b6559e3db",
       "max": 1649718,
       "min": 0,
       "orientation": "horizontal",
       "style": "IPY_MODEL_f561084266f9447e91eea5467c972f02",
       "value": 1649718
      }
     }
    },
    "version_major": 2,
    "version_minor": 0
   }
  }
 },
 "nbformat": 4,
 "nbformat_minor": 5
}
